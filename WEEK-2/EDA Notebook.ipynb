{
 "cells": [
  {
   "cell_type": "markdown",
   "id": "1d7f168e",
   "metadata": {},
   "source": [
    "## Business Problem: Understanding the Cab Industry Market to make an investment\n",
    "\n",
    "### Introduction\n",
    "XYZ, a private firm in the US, is considering an investment in the Cab industry. To inform their decision, I aim to analyze the market trends using data-driven insights.\n",
    "\n",
    "### Steps to Analyze the Market\n",
    "\n",
    "#### Step 1: Exploratory Data Analysis (EDA)\n",
    "Performed basic EDA to understand the dataset:\n",
    "- Checked for null values, missing data, data types, and duplicates.\n",
    "\n",
    "#### Step 2: Data Integration\n",
    "Merged multiple datasets using appropriate foreign keys (city, customerid, transactionid).\n",
    "\n",
    "#### Step 3: Feature Engineering\n",
    "Enhanced the dataset by adding relevant columns to facilitate visualizations and trend analysis.\n",
    "\n",
    "#### Step 4: Hypothesis Testing\n",
    "Conducted hypothesis testing to validate assumptions and draw statistical conclusions."
   ]
  },
  {
   "cell_type": "markdown",
   "id": "264787e5",
   "metadata": {},
   "source": [
    "## Importing Required Libraires\n"
   ]
  },
  {
   "cell_type": "code",
   "execution_count": 1,
   "id": "268aa04a",
   "metadata": {},
   "outputs": [],
   "source": [
    "import pandas as pd\n",
    "import numpy as np\n",
    "import seaborn as sns\n",
    "import matplotlib.pyplot as plt\n",
    "import datetime\n",
    "from scipy import stats\n",
    "import statsmodels.api as sm\n",
    "from scipy.stats import chi2_contingency\n",
    "import warnings\n",
    "warnings.filterwarnings(\"ignore\")"
   ]
  },
  {
   "cell_type": "markdown",
   "id": "3bb64b4b",
   "metadata": {},
   "source": [
    "## Reviewing Each Dataset Before Merging\n",
    "\n",
    "Since we have only four files, I am reviewing each one before merging. Otherwise, I would have merged the files first and conducted my analysis later.\n",
    "\n",
    "### General Checks for All Datasets\n",
    "1. **Load**: Load each dataset into the analysis environment.\n",
    "2. **Datatype**: Verify and ensure correct data types for all columns.\n",
    "3. **Null Values**: Check for any missing values and handle them appropriately.\n",
    "4. **Duplicate Values**: Identify and address any duplicate records in the datasets.\n"
   ]
  },
  {
   "cell_type": "markdown",
   "id": "e8a78978",
   "metadata": {},
   "source": [
    "**Dataset-1**"
   ]
  },
  {
   "cell_type": "code",
   "execution_count": 2,
   "id": "5223e0a4",
   "metadata": {},
   "outputs": [
    {
     "data": {
      "text/html": [
       "<div>\n",
       "<style scoped>\n",
       "    .dataframe tbody tr th:only-of-type {\n",
       "        vertical-align: middle;\n",
       "    }\n",
       "\n",
       "    .dataframe tbody tr th {\n",
       "        vertical-align: top;\n",
       "    }\n",
       "\n",
       "    .dataframe thead th {\n",
       "        text-align: right;\n",
       "    }\n",
       "</style>\n",
       "<table border=\"1\" class=\"dataframe\">\n",
       "  <thead>\n",
       "    <tr style=\"text-align: right;\">\n",
       "      <th></th>\n",
       "      <th>City</th>\n",
       "      <th>Population</th>\n",
       "      <th>Users</th>\n",
       "    </tr>\n",
       "  </thead>\n",
       "  <tbody>\n",
       "    <tr>\n",
       "      <th>0</th>\n",
       "      <td>NEW YORK NY</td>\n",
       "      <td>8,405,837</td>\n",
       "      <td>302,149</td>\n",
       "    </tr>\n",
       "    <tr>\n",
       "      <th>1</th>\n",
       "      <td>CHICAGO IL</td>\n",
       "      <td>1,955,130</td>\n",
       "      <td>164,468</td>\n",
       "    </tr>\n",
       "    <tr>\n",
       "      <th>2</th>\n",
       "      <td>LOS ANGELES CA</td>\n",
       "      <td>1,595,037</td>\n",
       "      <td>144,132</td>\n",
       "    </tr>\n",
       "    <tr>\n",
       "      <th>3</th>\n",
       "      <td>MIAMI FL</td>\n",
       "      <td>1,339,155</td>\n",
       "      <td>17,675</td>\n",
       "    </tr>\n",
       "    <tr>\n",
       "      <th>4</th>\n",
       "      <td>SILICON VALLEY</td>\n",
       "      <td>1,177,609</td>\n",
       "      <td>27,247</td>\n",
       "    </tr>\n",
       "  </tbody>\n",
       "</table>\n",
       "</div>"
      ],
      "text/plain": [
       "             City Population    Users\n",
       "0     NEW YORK NY  8,405,837  302,149\n",
       "1      CHICAGO IL  1,955,130  164,468\n",
       "2  LOS ANGELES CA  1,595,037  144,132\n",
       "3        MIAMI FL  1,339,155   17,675\n",
       "4  SILICON VALLEY  1,177,609   27,247"
      ]
     },
     "execution_count": 2,
     "metadata": {},
     "output_type": "execute_result"
    }
   ],
   "source": [
    "df_city=pd.read_csv(\"C:/Users/Sainad/DGVI/Data_Glacier_Intership_2024/WEEK-2/DataSets/City.csv\")\n",
    "df_city.head()"
   ]
  },
  {
   "cell_type": "code",
   "execution_count": 3,
   "id": "62f5e3ee",
   "metadata": {},
   "outputs": [
    {
     "data": {
      "text/plain": [
       "(20, 3)"
      ]
     },
     "execution_count": 3,
     "metadata": {},
     "output_type": "execute_result"
    }
   ],
   "source": [
    "df_city.shape"
   ]
  },
  {
   "cell_type": "code",
   "execution_count": 4,
   "id": "74e2ebff",
   "metadata": {},
   "outputs": [
    {
     "data": {
      "text/plain": [
       "City          object\n",
       "Population    object\n",
       "Users         object\n",
       "dtype: object"
      ]
     },
     "execution_count": 4,
     "metadata": {},
     "output_type": "execute_result"
    }
   ],
   "source": [
    "#Checking dattypes\n",
    "df_city.dtypes"
   ]
  },
  {
   "cell_type": "code",
   "execution_count": 5,
   "id": "e0648873",
   "metadata": {},
   "outputs": [
    {
     "data": {
      "text/plain": [
       "City          0\n",
       "Population    0\n",
       "Users         0\n",
       "dtype: int64"
      ]
     },
     "execution_count": 5,
     "metadata": {},
     "output_type": "execute_result"
    }
   ],
   "source": [
    "#Sum of Null_values\n",
    "df_city.isnull().sum()"
   ]
  },
  {
   "cell_type": "code",
   "execution_count": 6,
   "id": "1daea63c",
   "metadata": {},
   "outputs": [],
   "source": [
    "#data type conversion\n",
    "df_city['Population'] = df_city['Population'].str.replace(',', '').astype('float')\n",
    "df_city['Users'] = df_city['Users'].str.replace(',', '').astype('float')"
   ]
  },
  {
   "cell_type": "code",
   "execution_count": 7,
   "id": "d0eb77a1",
   "metadata": {},
   "outputs": [
    {
     "data": {
      "text/plain": [
       "(0, 3)"
      ]
     },
     "execution_count": 7,
     "metadata": {},
     "output_type": "execute_result"
    }
   ],
   "source": [
    "#Count of duplicated rows\n",
    "df_city[df_city.duplicated()].shape"
   ]
  },
  {
   "cell_type": "code",
   "execution_count": 8,
   "id": "d538a7a6",
   "metadata": {},
   "outputs": [
    {
     "name": "stdout",
     "output_type": "stream",
     "text": [
      "<class 'pandas.core.frame.DataFrame'>\n",
      "RangeIndex: 20 entries, 0 to 19\n",
      "Data columns (total 3 columns):\n",
      " #   Column      Non-Null Count  Dtype  \n",
      "---  ------      --------------  -----  \n",
      " 0   City        20 non-null     object \n",
      " 1   Population  20 non-null     float64\n",
      " 2   Users       20 non-null     float64\n",
      "dtypes: float64(2), object(1)\n",
      "memory usage: 608.0+ bytes\n"
     ]
    }
   ],
   "source": [
    "df_city.info()"
   ]
  },
  {
   "cell_type": "markdown",
   "id": "e6556e9b",
   "metadata": {},
   "source": [
    "**Dataset-2**"
   ]
  },
  {
   "cell_type": "code",
   "execution_count": 9,
   "id": "16b26c36",
   "metadata": {},
   "outputs": [
    {
     "data": {
      "text/html": [
       "<div>\n",
       "<style scoped>\n",
       "    .dataframe tbody tr th:only-of-type {\n",
       "        vertical-align: middle;\n",
       "    }\n",
       "\n",
       "    .dataframe tbody tr th {\n",
       "        vertical-align: top;\n",
       "    }\n",
       "\n",
       "    .dataframe thead th {\n",
       "        text-align: right;\n",
       "    }\n",
       "</style>\n",
       "<table border=\"1\" class=\"dataframe\">\n",
       "  <thead>\n",
       "    <tr style=\"text-align: right;\">\n",
       "      <th></th>\n",
       "      <th>Transaction ID</th>\n",
       "      <th>Customer ID</th>\n",
       "      <th>Payment_Mode</th>\n",
       "    </tr>\n",
       "  </thead>\n",
       "  <tbody>\n",
       "    <tr>\n",
       "      <th>0</th>\n",
       "      <td>10000011</td>\n",
       "      <td>29290</td>\n",
       "      <td>Card</td>\n",
       "    </tr>\n",
       "    <tr>\n",
       "      <th>1</th>\n",
       "      <td>10000012</td>\n",
       "      <td>27703</td>\n",
       "      <td>Card</td>\n",
       "    </tr>\n",
       "    <tr>\n",
       "      <th>2</th>\n",
       "      <td>10000013</td>\n",
       "      <td>28712</td>\n",
       "      <td>Cash</td>\n",
       "    </tr>\n",
       "    <tr>\n",
       "      <th>3</th>\n",
       "      <td>10000014</td>\n",
       "      <td>28020</td>\n",
       "      <td>Cash</td>\n",
       "    </tr>\n",
       "    <tr>\n",
       "      <th>4</th>\n",
       "      <td>10000015</td>\n",
       "      <td>27182</td>\n",
       "      <td>Card</td>\n",
       "    </tr>\n",
       "  </tbody>\n",
       "</table>\n",
       "</div>"
      ],
      "text/plain": [
       "   Transaction ID  Customer ID Payment_Mode\n",
       "0        10000011        29290         Card\n",
       "1        10000012        27703         Card\n",
       "2        10000013        28712         Cash\n",
       "3        10000014        28020         Cash\n",
       "4        10000015        27182         Card"
      ]
     },
     "execution_count": 9,
     "metadata": {},
     "output_type": "execute_result"
    }
   ],
   "source": [
    "df_Transc=pd.read_csv(\"C:/Users/Sainad/DGVI/Data_Glacier_Intership_2024/WEEK-2/DataSets/Transaction_ID.csv\")\n",
    "df_Transc.head()"
   ]
  },
  {
   "cell_type": "code",
   "execution_count": 10,
   "id": "daccac56",
   "metadata": {},
   "outputs": [
    {
     "data": {
      "text/plain": [
       "(440098, 3)"
      ]
     },
     "execution_count": 10,
     "metadata": {},
     "output_type": "execute_result"
    }
   ],
   "source": [
    "df_Transc.shape"
   ]
  },
  {
   "cell_type": "code",
   "execution_count": 11,
   "id": "166f37e8",
   "metadata": {},
   "outputs": [
    {
     "data": {
      "text/plain": [
       "Transaction ID     int64\n",
       "Customer ID        int64\n",
       "Payment_Mode      object\n",
       "dtype: object"
      ]
     },
     "execution_count": 11,
     "metadata": {},
     "output_type": "execute_result"
    }
   ],
   "source": [
    "#Checking dattypes\n",
    "df_Transc.dtypes"
   ]
  },
  {
   "cell_type": "code",
   "execution_count": 12,
   "id": "d6bf4d95",
   "metadata": {},
   "outputs": [
    {
     "data": {
      "text/plain": [
       "Transaction ID    0\n",
       "Customer ID       0\n",
       "Payment_Mode      0\n",
       "dtype: int64"
      ]
     },
     "execution_count": 12,
     "metadata": {},
     "output_type": "execute_result"
    }
   ],
   "source": [
    "#Sum of Null_values\n",
    "df_Transc.isnull().sum()"
   ]
  },
  {
   "cell_type": "code",
   "execution_count": 13,
   "id": "49403032",
   "metadata": {},
   "outputs": [
    {
     "data": {
      "text/plain": [
       "(0, 3)"
      ]
     },
     "execution_count": 13,
     "metadata": {},
     "output_type": "execute_result"
    }
   ],
   "source": [
    "#Count of duplicated rows\n",
    "df_Transc[df_Transc.duplicated()].shape"
   ]
  },
  {
   "cell_type": "code",
   "execution_count": 14,
   "id": "5d13e8fd",
   "metadata": {},
   "outputs": [
    {
     "name": "stdout",
     "output_type": "stream",
     "text": [
      "<class 'pandas.core.frame.DataFrame'>\n",
      "RangeIndex: 440098 entries, 0 to 440097\n",
      "Data columns (total 3 columns):\n",
      " #   Column          Non-Null Count   Dtype \n",
      "---  ------          --------------   ----- \n",
      " 0   Transaction ID  440098 non-null  int64 \n",
      " 1   Customer ID     440098 non-null  int64 \n",
      " 2   Payment_Mode    440098 non-null  object\n",
      "dtypes: int64(2), object(1)\n",
      "memory usage: 10.1+ MB\n"
     ]
    }
   ],
   "source": [
    "df_Transc.info()"
   ]
  },
  {
   "cell_type": "markdown",
   "id": "ae8bbe97",
   "metadata": {},
   "source": [
    "**Dataset-3**"
   ]
  },
  {
   "cell_type": "code",
   "execution_count": 15,
   "id": "887f18b9",
   "metadata": {},
   "outputs": [
    {
     "data": {
      "text/html": [
       "<div>\n",
       "<style scoped>\n",
       "    .dataframe tbody tr th:only-of-type {\n",
       "        vertical-align: middle;\n",
       "    }\n",
       "\n",
       "    .dataframe tbody tr th {\n",
       "        vertical-align: top;\n",
       "    }\n",
       "\n",
       "    .dataframe thead th {\n",
       "        text-align: right;\n",
       "    }\n",
       "</style>\n",
       "<table border=\"1\" class=\"dataframe\">\n",
       "  <thead>\n",
       "    <tr style=\"text-align: right;\">\n",
       "      <th></th>\n",
       "      <th>Customer ID</th>\n",
       "      <th>Gender</th>\n",
       "      <th>Age</th>\n",
       "      <th>Income (USD/Month)</th>\n",
       "    </tr>\n",
       "  </thead>\n",
       "  <tbody>\n",
       "    <tr>\n",
       "      <th>0</th>\n",
       "      <td>29290</td>\n",
       "      <td>Male</td>\n",
       "      <td>28</td>\n",
       "      <td>10813</td>\n",
       "    </tr>\n",
       "    <tr>\n",
       "      <th>1</th>\n",
       "      <td>27703</td>\n",
       "      <td>Male</td>\n",
       "      <td>27</td>\n",
       "      <td>9237</td>\n",
       "    </tr>\n",
       "    <tr>\n",
       "      <th>2</th>\n",
       "      <td>28712</td>\n",
       "      <td>Male</td>\n",
       "      <td>53</td>\n",
       "      <td>11242</td>\n",
       "    </tr>\n",
       "    <tr>\n",
       "      <th>3</th>\n",
       "      <td>28020</td>\n",
       "      <td>Male</td>\n",
       "      <td>23</td>\n",
       "      <td>23327</td>\n",
       "    </tr>\n",
       "    <tr>\n",
       "      <th>4</th>\n",
       "      <td>27182</td>\n",
       "      <td>Male</td>\n",
       "      <td>33</td>\n",
       "      <td>8536</td>\n",
       "    </tr>\n",
       "  </tbody>\n",
       "</table>\n",
       "</div>"
      ],
      "text/plain": [
       "   Customer ID Gender  Age  Income (USD/Month)\n",
       "0        29290   Male   28               10813\n",
       "1        27703   Male   27                9237\n",
       "2        28712   Male   53               11242\n",
       "3        28020   Male   23               23327\n",
       "4        27182   Male   33                8536"
      ]
     },
     "execution_count": 15,
     "metadata": {},
     "output_type": "execute_result"
    }
   ],
   "source": [
    "df_Cust=pd.read_csv(\"C:/Users/Sainad/DGVI/Data_Glacier_Intership_2024/WEEK-2/DataSets/Customer_ID.csv\")\n",
    "df_Cust.head()"
   ]
  },
  {
   "cell_type": "code",
   "execution_count": 16,
   "id": "8fa1ceb2",
   "metadata": {},
   "outputs": [
    {
     "data": {
      "text/plain": [
       "(49171, 4)"
      ]
     },
     "execution_count": 16,
     "metadata": {},
     "output_type": "execute_result"
    }
   ],
   "source": [
    "df_Cust.shape"
   ]
  },
  {
   "cell_type": "code",
   "execution_count": 17,
   "id": "bd5c0f77",
   "metadata": {},
   "outputs": [
    {
     "data": {
      "text/plain": [
       "Customer ID            int64\n",
       "Gender                object\n",
       "Age                    int64\n",
       "Income (USD/Month)     int64\n",
       "dtype: object"
      ]
     },
     "execution_count": 17,
     "metadata": {},
     "output_type": "execute_result"
    }
   ],
   "source": [
    "#Checking dattypes\n",
    "df_Cust.dtypes"
   ]
  },
  {
   "cell_type": "code",
   "execution_count": 18,
   "id": "86a4666c",
   "metadata": {},
   "outputs": [
    {
     "data": {
      "text/plain": [
       "Customer ID           0\n",
       "Gender                0\n",
       "Age                   0\n",
       "Income (USD/Month)    0\n",
       "dtype: int64"
      ]
     },
     "execution_count": 18,
     "metadata": {},
     "output_type": "execute_result"
    }
   ],
   "source": [
    "#Sum of Null_values\n",
    "df_Cust.isnull().sum()"
   ]
  },
  {
   "cell_type": "code",
   "execution_count": 19,
   "id": "3c2a59cb",
   "metadata": {},
   "outputs": [
    {
     "data": {
      "text/plain": [
       "(0, 4)"
      ]
     },
     "execution_count": 19,
     "metadata": {},
     "output_type": "execute_result"
    }
   ],
   "source": [
    "#Count of duplicated rows\n",
    "df_Cust[df_Cust.duplicated()].shape"
   ]
  },
  {
   "cell_type": "code",
   "execution_count": 20,
   "id": "11fcf6da",
   "metadata": {},
   "outputs": [
    {
     "name": "stdout",
     "output_type": "stream",
     "text": [
      "<class 'pandas.core.frame.DataFrame'>\n",
      "RangeIndex: 49171 entries, 0 to 49170\n",
      "Data columns (total 4 columns):\n",
      " #   Column              Non-Null Count  Dtype \n",
      "---  ------              --------------  ----- \n",
      " 0   Customer ID         49171 non-null  int64 \n",
      " 1   Gender              49171 non-null  object\n",
      " 2   Age                 49171 non-null  int64 \n",
      " 3   Income (USD/Month)  49171 non-null  int64 \n",
      "dtypes: int64(3), object(1)\n",
      "memory usage: 1.5+ MB\n"
     ]
    }
   ],
   "source": [
    "df_Cust.info()"
   ]
  },
  {
   "cell_type": "markdown",
   "id": "2f95d146",
   "metadata": {},
   "source": [
    "**Dataset-4**"
   ]
  },
  {
   "cell_type": "code",
   "execution_count": 21,
   "id": "d523c1b6",
   "metadata": {},
   "outputs": [
    {
     "data": {
      "text/html": [
       "<div>\n",
       "<style scoped>\n",
       "    .dataframe tbody tr th:only-of-type {\n",
       "        vertical-align: middle;\n",
       "    }\n",
       "\n",
       "    .dataframe tbody tr th {\n",
       "        vertical-align: top;\n",
       "    }\n",
       "\n",
       "    .dataframe thead th {\n",
       "        text-align: right;\n",
       "    }\n",
       "</style>\n",
       "<table border=\"1\" class=\"dataframe\">\n",
       "  <thead>\n",
       "    <tr style=\"text-align: right;\">\n",
       "      <th></th>\n",
       "      <th>Transaction ID</th>\n",
       "      <th>Date of Travel</th>\n",
       "      <th>Company</th>\n",
       "      <th>City</th>\n",
       "      <th>KM Travelled</th>\n",
       "      <th>Price Charged</th>\n",
       "      <th>Cost of Trip</th>\n",
       "    </tr>\n",
       "  </thead>\n",
       "  <tbody>\n",
       "    <tr>\n",
       "      <th>0</th>\n",
       "      <td>10000011</td>\n",
       "      <td>42377</td>\n",
       "      <td>Pink Cab</td>\n",
       "      <td>ATLANTA GA</td>\n",
       "      <td>30.45</td>\n",
       "      <td>370.95</td>\n",
       "      <td>313.635</td>\n",
       "    </tr>\n",
       "    <tr>\n",
       "      <th>1</th>\n",
       "      <td>10000012</td>\n",
       "      <td>42375</td>\n",
       "      <td>Pink Cab</td>\n",
       "      <td>ATLANTA GA</td>\n",
       "      <td>28.62</td>\n",
       "      <td>358.52</td>\n",
       "      <td>334.854</td>\n",
       "    </tr>\n",
       "    <tr>\n",
       "      <th>2</th>\n",
       "      <td>10000013</td>\n",
       "      <td>42371</td>\n",
       "      <td>Pink Cab</td>\n",
       "      <td>ATLANTA GA</td>\n",
       "      <td>9.04</td>\n",
       "      <td>125.20</td>\n",
       "      <td>97.632</td>\n",
       "    </tr>\n",
       "    <tr>\n",
       "      <th>3</th>\n",
       "      <td>10000014</td>\n",
       "      <td>42376</td>\n",
       "      <td>Pink Cab</td>\n",
       "      <td>ATLANTA GA</td>\n",
       "      <td>33.17</td>\n",
       "      <td>377.40</td>\n",
       "      <td>351.602</td>\n",
       "    </tr>\n",
       "    <tr>\n",
       "      <th>4</th>\n",
       "      <td>10000015</td>\n",
       "      <td>42372</td>\n",
       "      <td>Pink Cab</td>\n",
       "      <td>ATLANTA GA</td>\n",
       "      <td>8.73</td>\n",
       "      <td>114.62</td>\n",
       "      <td>97.776</td>\n",
       "    </tr>\n",
       "  </tbody>\n",
       "</table>\n",
       "</div>"
      ],
      "text/plain": [
       "   Transaction ID  Date of Travel   Company        City  KM Travelled  \\\n",
       "0        10000011           42377  Pink Cab  ATLANTA GA         30.45   \n",
       "1        10000012           42375  Pink Cab  ATLANTA GA         28.62   \n",
       "2        10000013           42371  Pink Cab  ATLANTA GA          9.04   \n",
       "3        10000014           42376  Pink Cab  ATLANTA GA         33.17   \n",
       "4        10000015           42372  Pink Cab  ATLANTA GA          8.73   \n",
       "\n",
       "   Price Charged  Cost of Trip  \n",
       "0         370.95       313.635  \n",
       "1         358.52       334.854  \n",
       "2         125.20        97.632  \n",
       "3         377.40       351.602  \n",
       "4         114.62        97.776  "
      ]
     },
     "execution_count": 21,
     "metadata": {},
     "output_type": "execute_result"
    }
   ],
   "source": [
    "df_Cab=pd.read_csv(\"C:/Users/Sainad/DGVI/Data_Glacier_Intership_2024/WEEK-2/DataSets/Cab_Data.csv\")\n",
    "df_Cab.head()"
   ]
  },
  {
   "cell_type": "code",
   "execution_count": 22,
   "id": "dc0062ab",
   "metadata": {},
   "outputs": [
    {
     "data": {
      "text/plain": [
       "(359392, 7)"
      ]
     },
     "execution_count": 22,
     "metadata": {},
     "output_type": "execute_result"
    }
   ],
   "source": [
    "df_Cab.shape"
   ]
  },
  {
   "cell_type": "code",
   "execution_count": 23,
   "id": "6d3629c3",
   "metadata": {},
   "outputs": [
    {
     "data": {
      "text/plain": [
       "Transaction ID      int64\n",
       "Date of Travel      int64\n",
       "Company            object\n",
       "City               object\n",
       "KM Travelled      float64\n",
       "Price Charged     float64\n",
       "Cost of Trip      float64\n",
       "dtype: object"
      ]
     },
     "execution_count": 23,
     "metadata": {},
     "output_type": "execute_result"
    }
   ],
   "source": [
    "#Checking dattypes\n",
    "df_Cab.dtypes"
   ]
  },
  {
   "cell_type": "code",
   "execution_count": 24,
   "id": "18ebf4f5",
   "metadata": {},
   "outputs": [
    {
     "data": {
      "text/plain": [
       "Transaction ID    0\n",
       "Date of Travel    0\n",
       "Company           0\n",
       "City              0\n",
       "KM Travelled      0\n",
       "Price Charged     0\n",
       "Cost of Trip      0\n",
       "dtype: int64"
      ]
     },
     "execution_count": 24,
     "metadata": {},
     "output_type": "execute_result"
    }
   ],
   "source": [
    "#Sum of Null_values\n",
    "df_Cab.isnull().sum()"
   ]
  },
  {
   "cell_type": "markdown",
   "id": "33363460",
   "metadata": {},
   "source": [
    "## Data Type Conversion for Date of Travel\n",
    "\n",
    "We need to convert the 'Date of Travel' column to the required data type. We have two approaches to achieve this:\n",
    "\n",
    "1. **Manual Conversion in Excel**:\n",
    "   - Open the Excel file containing the dataset.\n",
    "   - Locate the 'Date of Travel' column.\n",
    "   - Change the data type directly in Excel to the required format (e.g., date format).\n",
    "\n",
    "2. **Programmatic Conversion in Python**:\n",
    "   - Load the dataset into Python using pandas.\n",
    "   - Convert the 'Date of Travel' column to the desired data type using  functions."
   ]
  },
  {
   "cell_type": "code",
   "execution_count": 25,
   "id": "f40ae20e",
   "metadata": {},
   "outputs": [],
   "source": [
    "#function to convert date column\n",
    "def excel_serial_to_date(serial):\n",
    "    base_date = datetime.datetime(1900, 1, 1)\n",
    "    return base_date + datetime.timedelta(days=serial - 2)\n",
    "df_Cab['Date of Travel']=df_Cab['Date of Travel'].apply(excel_serial_to_date)"
   ]
  },
  {
   "cell_type": "code",
   "execution_count": 26,
   "id": "b314bfa0",
   "metadata": {},
   "outputs": [
    {
     "data": {
      "text/plain": [
       "(0, 7)"
      ]
     },
     "execution_count": 26,
     "metadata": {},
     "output_type": "execute_result"
    }
   ],
   "source": [
    "#Count of duplicated rows\n",
    "df_Cab[df_Cab.duplicated()].shape"
   ]
  },
  {
   "cell_type": "code",
   "execution_count": 27,
   "id": "9ab4a85a",
   "metadata": {},
   "outputs": [
    {
     "name": "stdout",
     "output_type": "stream",
     "text": [
      "<class 'pandas.core.frame.DataFrame'>\n",
      "RangeIndex: 359392 entries, 0 to 359391\n",
      "Data columns (total 7 columns):\n",
      " #   Column          Non-Null Count   Dtype         \n",
      "---  ------          --------------   -----         \n",
      " 0   Transaction ID  359392 non-null  int64         \n",
      " 1   Date of Travel  359392 non-null  datetime64[ns]\n",
      " 2   Company         359392 non-null  object        \n",
      " 3   City            359392 non-null  object        \n",
      " 4   KM Travelled    359392 non-null  float64       \n",
      " 5   Price Charged   359392 non-null  float64       \n",
      " 6   Cost of Trip    359392 non-null  float64       \n",
      "dtypes: datetime64[ns](1), float64(3), int64(1), object(2)\n",
      "memory usage: 19.2+ MB\n"
     ]
    }
   ],
   "source": [
    "df_Cab.info()"
   ]
  },
  {
   "cell_type": "markdown",
   "id": "233bd3c4",
   "metadata": {},
   "source": [
    "## Merging Files Using Foreign Keys\n",
    "\n",
    "After confirming that there are no missing values, null values, or duplicates in the datasets, we proceed to merge all files using their respective foreign keys.\n"
   ]
  },
  {
   "cell_type": "code",
   "execution_count": 28,
   "id": "ce8c23f3",
   "metadata": {},
   "outputs": [],
   "source": [
    "merged_df = df_Cab.merge(df_city, on='City').merge(df_Transc, on='Transaction ID').merge(df_Cust, on='Customer ID')"
   ]
  },
  {
   "cell_type": "code",
   "execution_count": 29,
   "id": "cc2f7a75",
   "metadata": {},
   "outputs": [
    {
     "data": {
      "text/html": [
       "<div>\n",
       "<style scoped>\n",
       "    .dataframe tbody tr th:only-of-type {\n",
       "        vertical-align: middle;\n",
       "    }\n",
       "\n",
       "    .dataframe tbody tr th {\n",
       "        vertical-align: top;\n",
       "    }\n",
       "\n",
       "    .dataframe thead th {\n",
       "        text-align: right;\n",
       "    }\n",
       "</style>\n",
       "<table border=\"1\" class=\"dataframe\">\n",
       "  <thead>\n",
       "    <tr style=\"text-align: right;\">\n",
       "      <th></th>\n",
       "      <th>Transaction ID</th>\n",
       "      <th>Date of Travel</th>\n",
       "      <th>Company</th>\n",
       "      <th>City</th>\n",
       "      <th>KM Travelled</th>\n",
       "      <th>Price Charged</th>\n",
       "      <th>Cost of Trip</th>\n",
       "      <th>Population</th>\n",
       "      <th>Users</th>\n",
       "      <th>Customer ID</th>\n",
       "      <th>Payment_Mode</th>\n",
       "      <th>Gender</th>\n",
       "      <th>Age</th>\n",
       "      <th>Income (USD/Month)</th>\n",
       "    </tr>\n",
       "  </thead>\n",
       "  <tbody>\n",
       "    <tr>\n",
       "      <th>0</th>\n",
       "      <td>10000011</td>\n",
       "      <td>2016-01-08</td>\n",
       "      <td>Pink Cab</td>\n",
       "      <td>ATLANTA GA</td>\n",
       "      <td>30.45</td>\n",
       "      <td>370.95</td>\n",
       "      <td>313.6350</td>\n",
       "      <td>814885.0</td>\n",
       "      <td>24701.0</td>\n",
       "      <td>29290</td>\n",
       "      <td>Card</td>\n",
       "      <td>Male</td>\n",
       "      <td>28</td>\n",
       "      <td>10813</td>\n",
       "    </tr>\n",
       "    <tr>\n",
       "      <th>1</th>\n",
       "      <td>10000012</td>\n",
       "      <td>2016-01-06</td>\n",
       "      <td>Pink Cab</td>\n",
       "      <td>ATLANTA GA</td>\n",
       "      <td>28.62</td>\n",
       "      <td>358.52</td>\n",
       "      <td>334.8540</td>\n",
       "      <td>814885.0</td>\n",
       "      <td>24701.0</td>\n",
       "      <td>27703</td>\n",
       "      <td>Card</td>\n",
       "      <td>Male</td>\n",
       "      <td>27</td>\n",
       "      <td>9237</td>\n",
       "    </tr>\n",
       "    <tr>\n",
       "      <th>2</th>\n",
       "      <td>10000013</td>\n",
       "      <td>2016-01-02</td>\n",
       "      <td>Pink Cab</td>\n",
       "      <td>ATLANTA GA</td>\n",
       "      <td>9.04</td>\n",
       "      <td>125.20</td>\n",
       "      <td>97.6320</td>\n",
       "      <td>814885.0</td>\n",
       "      <td>24701.0</td>\n",
       "      <td>28712</td>\n",
       "      <td>Cash</td>\n",
       "      <td>Male</td>\n",
       "      <td>53</td>\n",
       "      <td>11242</td>\n",
       "    </tr>\n",
       "    <tr>\n",
       "      <th>3</th>\n",
       "      <td>10000014</td>\n",
       "      <td>2016-01-07</td>\n",
       "      <td>Pink Cab</td>\n",
       "      <td>ATLANTA GA</td>\n",
       "      <td>33.17</td>\n",
       "      <td>377.40</td>\n",
       "      <td>351.6020</td>\n",
       "      <td>814885.0</td>\n",
       "      <td>24701.0</td>\n",
       "      <td>28020</td>\n",
       "      <td>Cash</td>\n",
       "      <td>Male</td>\n",
       "      <td>23</td>\n",
       "      <td>23327</td>\n",
       "    </tr>\n",
       "    <tr>\n",
       "      <th>4</th>\n",
       "      <td>10000015</td>\n",
       "      <td>2016-01-03</td>\n",
       "      <td>Pink Cab</td>\n",
       "      <td>ATLANTA GA</td>\n",
       "      <td>8.73</td>\n",
       "      <td>114.62</td>\n",
       "      <td>97.7760</td>\n",
       "      <td>814885.0</td>\n",
       "      <td>24701.0</td>\n",
       "      <td>27182</td>\n",
       "      <td>Card</td>\n",
       "      <td>Male</td>\n",
       "      <td>33</td>\n",
       "      <td>8536</td>\n",
       "    </tr>\n",
       "    <tr>\n",
       "      <th>...</th>\n",
       "      <td>...</td>\n",
       "      <td>...</td>\n",
       "      <td>...</td>\n",
       "      <td>...</td>\n",
       "      <td>...</td>\n",
       "      <td>...</td>\n",
       "      <td>...</td>\n",
       "      <td>...</td>\n",
       "      <td>...</td>\n",
       "      <td>...</td>\n",
       "      <td>...</td>\n",
       "      <td>...</td>\n",
       "      <td>...</td>\n",
       "      <td>...</td>\n",
       "    </tr>\n",
       "    <tr>\n",
       "      <th>359387</th>\n",
       "      <td>10440101</td>\n",
       "      <td>2018-01-08</td>\n",
       "      <td>Yellow Cab</td>\n",
       "      <td>WASHINGTON DC</td>\n",
       "      <td>4.80</td>\n",
       "      <td>69.24</td>\n",
       "      <td>63.3600</td>\n",
       "      <td>418859.0</td>\n",
       "      <td>127001.0</td>\n",
       "      <td>52392</td>\n",
       "      <td>Cash</td>\n",
       "      <td>Male</td>\n",
       "      <td>24</td>\n",
       "      <td>15651</td>\n",
       "    </tr>\n",
       "    <tr>\n",
       "      <th>359388</th>\n",
       "      <td>10440104</td>\n",
       "      <td>2018-01-04</td>\n",
       "      <td>Yellow Cab</td>\n",
       "      <td>WASHINGTON DC</td>\n",
       "      <td>8.40</td>\n",
       "      <td>113.75</td>\n",
       "      <td>106.8480</td>\n",
       "      <td>418859.0</td>\n",
       "      <td>127001.0</td>\n",
       "      <td>53286</td>\n",
       "      <td>Cash</td>\n",
       "      <td>Male</td>\n",
       "      <td>32</td>\n",
       "      <td>6528</td>\n",
       "    </tr>\n",
       "    <tr>\n",
       "      <th>359389</th>\n",
       "      <td>10440105</td>\n",
       "      <td>2018-01-05</td>\n",
       "      <td>Yellow Cab</td>\n",
       "      <td>WASHINGTON DC</td>\n",
       "      <td>27.75</td>\n",
       "      <td>437.07</td>\n",
       "      <td>349.6500</td>\n",
       "      <td>418859.0</td>\n",
       "      <td>127001.0</td>\n",
       "      <td>52265</td>\n",
       "      <td>Cash</td>\n",
       "      <td>Male</td>\n",
       "      <td>56</td>\n",
       "      <td>7966</td>\n",
       "    </tr>\n",
       "    <tr>\n",
       "      <th>359390</th>\n",
       "      <td>10440106</td>\n",
       "      <td>2018-01-05</td>\n",
       "      <td>Yellow Cab</td>\n",
       "      <td>WASHINGTON DC</td>\n",
       "      <td>8.80</td>\n",
       "      <td>146.19</td>\n",
       "      <td>114.0480</td>\n",
       "      <td>418859.0</td>\n",
       "      <td>127001.0</td>\n",
       "      <td>52175</td>\n",
       "      <td>Card</td>\n",
       "      <td>Male</td>\n",
       "      <td>32</td>\n",
       "      <td>6423</td>\n",
       "    </tr>\n",
       "    <tr>\n",
       "      <th>359391</th>\n",
       "      <td>10440107</td>\n",
       "      <td>2018-01-02</td>\n",
       "      <td>Yellow Cab</td>\n",
       "      <td>WASHINGTON DC</td>\n",
       "      <td>12.76</td>\n",
       "      <td>191.58</td>\n",
       "      <td>177.6192</td>\n",
       "      <td>418859.0</td>\n",
       "      <td>127001.0</td>\n",
       "      <td>52917</td>\n",
       "      <td>Card</td>\n",
       "      <td>Male</td>\n",
       "      <td>20</td>\n",
       "      <td>11284</td>\n",
       "    </tr>\n",
       "  </tbody>\n",
       "</table>\n",
       "<p>359392 rows × 14 columns</p>\n",
       "</div>"
      ],
      "text/plain": [
       "        Transaction ID Date of Travel     Company           City  \\\n",
       "0             10000011     2016-01-08    Pink Cab     ATLANTA GA   \n",
       "1             10000012     2016-01-06    Pink Cab     ATLANTA GA   \n",
       "2             10000013     2016-01-02    Pink Cab     ATLANTA GA   \n",
       "3             10000014     2016-01-07    Pink Cab     ATLANTA GA   \n",
       "4             10000015     2016-01-03    Pink Cab     ATLANTA GA   \n",
       "...                ...            ...         ...            ...   \n",
       "359387        10440101     2018-01-08  Yellow Cab  WASHINGTON DC   \n",
       "359388        10440104     2018-01-04  Yellow Cab  WASHINGTON DC   \n",
       "359389        10440105     2018-01-05  Yellow Cab  WASHINGTON DC   \n",
       "359390        10440106     2018-01-05  Yellow Cab  WASHINGTON DC   \n",
       "359391        10440107     2018-01-02  Yellow Cab  WASHINGTON DC   \n",
       "\n",
       "        KM Travelled  Price Charged  Cost of Trip  Population     Users  \\\n",
       "0              30.45         370.95      313.6350    814885.0   24701.0   \n",
       "1              28.62         358.52      334.8540    814885.0   24701.0   \n",
       "2               9.04         125.20       97.6320    814885.0   24701.0   \n",
       "3              33.17         377.40      351.6020    814885.0   24701.0   \n",
       "4               8.73         114.62       97.7760    814885.0   24701.0   \n",
       "...              ...            ...           ...         ...       ...   \n",
       "359387          4.80          69.24       63.3600    418859.0  127001.0   \n",
       "359388          8.40         113.75      106.8480    418859.0  127001.0   \n",
       "359389         27.75         437.07      349.6500    418859.0  127001.0   \n",
       "359390          8.80         146.19      114.0480    418859.0  127001.0   \n",
       "359391         12.76         191.58      177.6192    418859.0  127001.0   \n",
       "\n",
       "        Customer ID Payment_Mode Gender  Age  Income (USD/Month)  \n",
       "0             29290         Card   Male   28               10813  \n",
       "1             27703         Card   Male   27                9237  \n",
       "2             28712         Cash   Male   53               11242  \n",
       "3             28020         Cash   Male   23               23327  \n",
       "4             27182         Card   Male   33                8536  \n",
       "...             ...          ...    ...  ...                 ...  \n",
       "359387        52392         Cash   Male   24               15651  \n",
       "359388        53286         Cash   Male   32                6528  \n",
       "359389        52265         Cash   Male   56                7966  \n",
       "359390        52175         Card   Male   32                6423  \n",
       "359391        52917         Card   Male   20               11284  \n",
       "\n",
       "[359392 rows x 14 columns]"
      ]
     },
     "execution_count": 29,
     "metadata": {},
     "output_type": "execute_result"
    }
   ],
   "source": [
    "#sorting values according to tranacrion id and reseting the index\n",
    "merged_df.sort_values(by=['Transaction ID'],ascending=True).reset_index(drop=True)"
   ]
  },
  {
   "cell_type": "code",
   "execution_count": 30,
   "id": "2da96c49",
   "metadata": {},
   "outputs": [],
   "source": [
    "#adding extra rows for further analysis\n",
    "merged_df['Year'] =merged_df['Date of Travel'].dt.to_period('Y')\n",
    "merged_df['month_name'] =merged_df['Date of Travel'].dt.month_name()\n",
    "merged_df[\"Profit\"] = merged_df[\"Price Charged\"] - merged_df[\"Cost of Trip\"]\n",
    "merged_df['price per KM']=merged_df['Price Charged'] / merged_df['KM Travelled']\n",
    "merged_df['profit per KM'] = merged_df['Profit'] / merged_df['KM Travelled']"
   ]
  },
  {
   "cell_type": "code",
   "execution_count": 31,
   "id": "7f3898cc",
   "metadata": {},
   "outputs": [
    {
     "data": {
      "text/plain": [
       "(359392, 19)"
      ]
     },
     "execution_count": 31,
     "metadata": {},
     "output_type": "execute_result"
    }
   ],
   "source": [
    "merged_df.shape"
   ]
  },
  {
   "cell_type": "code",
   "execution_count": 32,
   "id": "a9d610a0",
   "metadata": {},
   "outputs": [
    {
     "data": {
      "text/html": [
       "<div>\n",
       "<style scoped>\n",
       "    .dataframe tbody tr th:only-of-type {\n",
       "        vertical-align: middle;\n",
       "    }\n",
       "\n",
       "    .dataframe tbody tr th {\n",
       "        vertical-align: top;\n",
       "    }\n",
       "\n",
       "    .dataframe thead th {\n",
       "        text-align: right;\n",
       "    }\n",
       "</style>\n",
       "<table border=\"1\" class=\"dataframe\">\n",
       "  <thead>\n",
       "    <tr style=\"text-align: right;\">\n",
       "      <th></th>\n",
       "      <th>Transaction ID</th>\n",
       "      <th>KM Travelled</th>\n",
       "      <th>Price Charged</th>\n",
       "      <th>Cost of Trip</th>\n",
       "      <th>Population</th>\n",
       "      <th>Users</th>\n",
       "      <th>Customer ID</th>\n",
       "      <th>Age</th>\n",
       "      <th>Income (USD/Month)</th>\n",
       "      <th>Profit</th>\n",
       "      <th>price per KM</th>\n",
       "      <th>profit per KM</th>\n",
       "    </tr>\n",
       "  </thead>\n",
       "  <tbody>\n",
       "    <tr>\n",
       "      <th>count</th>\n",
       "      <td>3.593920e+05</td>\n",
       "      <td>359392.000000</td>\n",
       "      <td>359392.000000</td>\n",
       "      <td>359392.000000</td>\n",
       "      <td>3.593920e+05</td>\n",
       "      <td>359392.000000</td>\n",
       "      <td>359392.000000</td>\n",
       "      <td>359392.000000</td>\n",
       "      <td>359392.000000</td>\n",
       "      <td>359392.000000</td>\n",
       "      <td>359392.000000</td>\n",
       "      <td>359392.000000</td>\n",
       "    </tr>\n",
       "    <tr>\n",
       "      <th>mean</th>\n",
       "      <td>1.022076e+07</td>\n",
       "      <td>22.567254</td>\n",
       "      <td>423.443311</td>\n",
       "      <td>286.190113</td>\n",
       "      <td>3.132198e+06</td>\n",
       "      <td>158365.582267</td>\n",
       "      <td>19191.652115</td>\n",
       "      <td>35.336705</td>\n",
       "      <td>15048.822937</td>\n",
       "      <td>137.253198</td>\n",
       "      <td>18.765127</td>\n",
       "      <td>6.083579</td>\n",
       "    </tr>\n",
       "    <tr>\n",
       "      <th>std</th>\n",
       "      <td>1.268058e+05</td>\n",
       "      <td>12.233526</td>\n",
       "      <td>274.378911</td>\n",
       "      <td>157.993661</td>\n",
       "      <td>3.315194e+06</td>\n",
       "      <td>100850.051020</td>\n",
       "      <td>21012.412463</td>\n",
       "      <td>12.594234</td>\n",
       "      <td>7969.409482</td>\n",
       "      <td>160.311840</td>\n",
       "      <td>5.878560</td>\n",
       "      <td>5.543493</td>\n",
       "    </tr>\n",
       "    <tr>\n",
       "      <th>min</th>\n",
       "      <td>1.000001e+07</td>\n",
       "      <td>1.900000</td>\n",
       "      <td>15.600000</td>\n",
       "      <td>19.000000</td>\n",
       "      <td>2.489680e+05</td>\n",
       "      <td>3643.000000</td>\n",
       "      <td>1.000000</td>\n",
       "      <td>18.000000</td>\n",
       "      <td>2000.000000</td>\n",
       "      <td>-220.060000</td>\n",
       "      <td>6.338621</td>\n",
       "      <td>-4.998235</td>\n",
       "    </tr>\n",
       "    <tr>\n",
       "      <th>25%</th>\n",
       "      <td>1.011081e+07</td>\n",
       "      <td>12.000000</td>\n",
       "      <td>206.437500</td>\n",
       "      <td>151.200000</td>\n",
       "      <td>6.712380e+05</td>\n",
       "      <td>80021.000000</td>\n",
       "      <td>2705.000000</td>\n",
       "      <td>25.000000</td>\n",
       "      <td>8424.000000</td>\n",
       "      <td>28.012000</td>\n",
       "      <td>14.451327</td>\n",
       "      <td>2.000385</td>\n",
       "    </tr>\n",
       "    <tr>\n",
       "      <th>50%</th>\n",
       "      <td>1.022104e+07</td>\n",
       "      <td>22.440000</td>\n",
       "      <td>386.360000</td>\n",
       "      <td>282.480000</td>\n",
       "      <td>1.595037e+06</td>\n",
       "      <td>144132.000000</td>\n",
       "      <td>7459.000000</td>\n",
       "      <td>33.000000</td>\n",
       "      <td>14685.000000</td>\n",
       "      <td>81.962000</td>\n",
       "      <td>17.153501</td>\n",
       "      <td>4.466809</td>\n",
       "    </tr>\n",
       "    <tr>\n",
       "      <th>75%</th>\n",
       "      <td>1.033094e+07</td>\n",
       "      <td>32.960000</td>\n",
       "      <td>583.660000</td>\n",
       "      <td>413.683200</td>\n",
       "      <td>8.405837e+06</td>\n",
       "      <td>302149.000000</td>\n",
       "      <td>36078.000000</td>\n",
       "      <td>42.000000</td>\n",
       "      <td>21035.000000</td>\n",
       "      <td>190.030000</td>\n",
       "      <td>22.234926</td>\n",
       "      <td>9.170006</td>\n",
       "    </tr>\n",
       "    <tr>\n",
       "      <th>max</th>\n",
       "      <td>1.044011e+07</td>\n",
       "      <td>48.000000</td>\n",
       "      <td>2048.030000</td>\n",
       "      <td>691.200000</td>\n",
       "      <td>8.405837e+06</td>\n",
       "      <td>302149.000000</td>\n",
       "      <td>60000.000000</td>\n",
       "      <td>65.000000</td>\n",
       "      <td>35000.000000</td>\n",
       "      <td>1463.966000</td>\n",
       "      <td>53.955556</td>\n",
       "      <td>41.115556</td>\n",
       "    </tr>\n",
       "  </tbody>\n",
       "</table>\n",
       "</div>"
      ],
      "text/plain": [
       "       Transaction ID   KM Travelled  Price Charged   Cost of Trip  \\\n",
       "count    3.593920e+05  359392.000000  359392.000000  359392.000000   \n",
       "mean     1.022076e+07      22.567254     423.443311     286.190113   \n",
       "std      1.268058e+05      12.233526     274.378911     157.993661   \n",
       "min      1.000001e+07       1.900000      15.600000      19.000000   \n",
       "25%      1.011081e+07      12.000000     206.437500     151.200000   \n",
       "50%      1.022104e+07      22.440000     386.360000     282.480000   \n",
       "75%      1.033094e+07      32.960000     583.660000     413.683200   \n",
       "max      1.044011e+07      48.000000    2048.030000     691.200000   \n",
       "\n",
       "         Population          Users    Customer ID            Age  \\\n",
       "count  3.593920e+05  359392.000000  359392.000000  359392.000000   \n",
       "mean   3.132198e+06  158365.582267   19191.652115      35.336705   \n",
       "std    3.315194e+06  100850.051020   21012.412463      12.594234   \n",
       "min    2.489680e+05    3643.000000       1.000000      18.000000   \n",
       "25%    6.712380e+05   80021.000000    2705.000000      25.000000   \n",
       "50%    1.595037e+06  144132.000000    7459.000000      33.000000   \n",
       "75%    8.405837e+06  302149.000000   36078.000000      42.000000   \n",
       "max    8.405837e+06  302149.000000   60000.000000      65.000000   \n",
       "\n",
       "       Income (USD/Month)         Profit   price per KM  profit per KM  \n",
       "count       359392.000000  359392.000000  359392.000000  359392.000000  \n",
       "mean         15048.822937     137.253198      18.765127       6.083579  \n",
       "std           7969.409482     160.311840       5.878560       5.543493  \n",
       "min           2000.000000    -220.060000       6.338621      -4.998235  \n",
       "25%           8424.000000      28.012000      14.451327       2.000385  \n",
       "50%          14685.000000      81.962000      17.153501       4.466809  \n",
       "75%          21035.000000     190.030000      22.234926       9.170006  \n",
       "max          35000.000000    1463.966000      53.955556      41.115556  "
      ]
     },
     "execution_count": 32,
     "metadata": {},
     "output_type": "execute_result"
    }
   ],
   "source": [
    "merged_df.describe()"
   ]
  },
  {
   "cell_type": "code",
   "execution_count": 33,
   "id": "d17d8ba6",
   "metadata": {},
   "outputs": [
    {
     "name": "stdout",
     "output_type": "stream",
     "text": [
      "<class 'pandas.core.frame.DataFrame'>\n",
      "Int64Index: 359392 entries, 0 to 359391\n",
      "Data columns (total 19 columns):\n",
      " #   Column              Non-Null Count   Dtype         \n",
      "---  ------              --------------   -----         \n",
      " 0   Transaction ID      359392 non-null  int64         \n",
      " 1   Date of Travel      359392 non-null  datetime64[ns]\n",
      " 2   Company             359392 non-null  object        \n",
      " 3   City                359392 non-null  object        \n",
      " 4   KM Travelled        359392 non-null  float64       \n",
      " 5   Price Charged       359392 non-null  float64       \n",
      " 6   Cost of Trip        359392 non-null  float64       \n",
      " 7   Population          359392 non-null  float64       \n",
      " 8   Users               359392 non-null  float64       \n",
      " 9   Customer ID         359392 non-null  int64         \n",
      " 10  Payment_Mode        359392 non-null  object        \n",
      " 11  Gender              359392 non-null  object        \n",
      " 12  Age                 359392 non-null  int64         \n",
      " 13  Income (USD/Month)  359392 non-null  int64         \n",
      " 14  Year                359392 non-null  period[A-DEC] \n",
      " 15  month_name          359392 non-null  object        \n",
      " 16  Profit              359392 non-null  float64       \n",
      " 17  price per KM        359392 non-null  float64       \n",
      " 18  profit per KM       359392 non-null  float64       \n",
      "dtypes: datetime64[ns](1), float64(8), int64(4), object(5), period[A-DEC](1)\n",
      "memory usage: 54.8+ MB\n"
     ]
    }
   ],
   "source": [
    "merged_df.info()"
   ]
  },
  {
   "cell_type": "code",
   "execution_count": 34,
   "id": "0836e975",
   "metadata": {},
   "outputs": [
    {
     "data": {
      "text/plain": [
       "(0, 19)"
      ]
     },
     "execution_count": 34,
     "metadata": {},
     "output_type": "execute_result"
    }
   ],
   "source": [
    "#Count of duplicated rows\n",
    "merged_df[merged_df.duplicated()].shape"
   ]
  },
  {
   "cell_type": "markdown",
   "id": "f9f3884d",
   "metadata": {},
   "source": [
    "\n",
    "## Visualization and Further Analysis\n",
    "\n",
    "After merging the datasets and confirming the absence of null values, duplicates, and invalid entries, we proceed to visualize the data and conduct further analysis.\n"
   ]
  },
  {
   "cell_type": "markdown",
   "id": "22cc82c7",
   "metadata": {},
   "source": [
    "## Checking Correlation\n",
    "\n",
    "To understand relationships between variables in the dataset, we'll check the correlation coefficients:\n",
    "\n",
    "### Steps:\n",
    "1. **Compute Correlation**: Calculate the correlation coefficients between  variables.\n",
    "2. **Visualize Correlation**: Create a heatmap to visualize the correlations."
   ]
  },
  {
   "cell_type": "code",
   "execution_count": 35,
   "id": "307af792",
   "metadata": {},
   "outputs": [
    {
     "data": {
      "text/html": [
       "<div>\n",
       "<style scoped>\n",
       "    .dataframe tbody tr th:only-of-type {\n",
       "        vertical-align: middle;\n",
       "    }\n",
       "\n",
       "    .dataframe tbody tr th {\n",
       "        vertical-align: top;\n",
       "    }\n",
       "\n",
       "    .dataframe thead th {\n",
       "        text-align: right;\n",
       "    }\n",
       "</style>\n",
       "<table border=\"1\" class=\"dataframe\">\n",
       "  <thead>\n",
       "    <tr style=\"text-align: right;\">\n",
       "      <th></th>\n",
       "      <th>Transaction ID</th>\n",
       "      <th>KM Travelled</th>\n",
       "      <th>Price Charged</th>\n",
       "      <th>Cost of Trip</th>\n",
       "      <th>Population</th>\n",
       "      <th>Users</th>\n",
       "      <th>Customer ID</th>\n",
       "      <th>Age</th>\n",
       "      <th>Income (USD/Month)</th>\n",
       "      <th>Profit</th>\n",
       "      <th>price per KM</th>\n",
       "      <th>profit per KM</th>\n",
       "    </tr>\n",
       "  </thead>\n",
       "  <tbody>\n",
       "    <tr>\n",
       "      <th>Transaction ID</th>\n",
       "      <td>1.000000</td>\n",
       "      <td>-0.001429</td>\n",
       "      <td>-0.052902</td>\n",
       "      <td>-0.003462</td>\n",
       "      <td>0.023868</td>\n",
       "      <td>0.013526</td>\n",
       "      <td>-0.016912</td>\n",
       "      <td>-0.001267</td>\n",
       "      <td>-0.001570</td>\n",
       "      <td>-0.087130</td>\n",
       "      <td>-0.106457</td>\n",
       "      <td>-0.110524</td>\n",
       "    </tr>\n",
       "    <tr>\n",
       "      <th>KM Travelled</th>\n",
       "      <td>-0.001429</td>\n",
       "      <td>1.000000</td>\n",
       "      <td>0.835753</td>\n",
       "      <td>0.981848</td>\n",
       "      <td>-0.002311</td>\n",
       "      <td>-0.000428</td>\n",
       "      <td>0.000389</td>\n",
       "      <td>-0.000369</td>\n",
       "      <td>-0.000544</td>\n",
       "      <td>0.462768</td>\n",
       "      <td>-0.000474</td>\n",
       "      <td>-0.000538</td>\n",
       "    </tr>\n",
       "    <tr>\n",
       "      <th>Price Charged</th>\n",
       "      <td>-0.052902</td>\n",
       "      <td>0.835753</td>\n",
       "      <td>1.000000</td>\n",
       "      <td>0.859812</td>\n",
       "      <td>0.326589</td>\n",
       "      <td>0.281061</td>\n",
       "      <td>-0.177324</td>\n",
       "      <td>-0.003084</td>\n",
       "      <td>0.003228</td>\n",
       "      <td>0.864154</td>\n",
       "      <td>0.482493</td>\n",
       "      <td>0.473222</td>\n",
       "    </tr>\n",
       "    <tr>\n",
       "      <th>Cost of Trip</th>\n",
       "      <td>-0.003462</td>\n",
       "      <td>0.981848</td>\n",
       "      <td>0.859812</td>\n",
       "      <td>1.000000</td>\n",
       "      <td>0.015108</td>\n",
       "      <td>0.023628</td>\n",
       "      <td>0.003077</td>\n",
       "      <td>-0.000189</td>\n",
       "      <td>-0.000633</td>\n",
       "      <td>0.486056</td>\n",
       "      <td>0.062429</td>\n",
       "      <td>0.031053</td>\n",
       "    </tr>\n",
       "    <tr>\n",
       "      <th>Population</th>\n",
       "      <td>0.023868</td>\n",
       "      <td>-0.002311</td>\n",
       "      <td>0.326589</td>\n",
       "      <td>0.015108</td>\n",
       "      <td>1.000000</td>\n",
       "      <td>0.915490</td>\n",
       "      <td>-0.647052</td>\n",
       "      <td>-0.009002</td>\n",
       "      <td>0.011868</td>\n",
       "      <td>0.544079</td>\n",
       "      <td>0.681364</td>\n",
       "      <td>0.700522</td>\n",
       "    </tr>\n",
       "    <tr>\n",
       "      <th>Users</th>\n",
       "      <td>0.013526</td>\n",
       "      <td>-0.000428</td>\n",
       "      <td>0.281061</td>\n",
       "      <td>0.023628</td>\n",
       "      <td>0.915490</td>\n",
       "      <td>1.000000</td>\n",
       "      <td>-0.610742</td>\n",
       "      <td>-0.005906</td>\n",
       "      <td>0.010464</td>\n",
       "      <td>0.457758</td>\n",
       "      <td>0.584375</td>\n",
       "      <td>0.589299</td>\n",
       "    </tr>\n",
       "    <tr>\n",
       "      <th>Customer ID</th>\n",
       "      <td>-0.016912</td>\n",
       "      <td>0.000389</td>\n",
       "      <td>-0.177324</td>\n",
       "      <td>0.003077</td>\n",
       "      <td>-0.647052</td>\n",
       "      <td>-0.610742</td>\n",
       "      <td>1.000000</td>\n",
       "      <td>-0.004735</td>\n",
       "      <td>-0.013608</td>\n",
       "      <td>-0.306527</td>\n",
       "      <td>-0.368361</td>\n",
       "      <td>-0.394133</td>\n",
       "    </tr>\n",
       "    <tr>\n",
       "      <th>Age</th>\n",
       "      <td>-0.001267</td>\n",
       "      <td>-0.000369</td>\n",
       "      <td>-0.003084</td>\n",
       "      <td>-0.000189</td>\n",
       "      <td>-0.009002</td>\n",
       "      <td>-0.005906</td>\n",
       "      <td>-0.004735</td>\n",
       "      <td>1.000000</td>\n",
       "      <td>0.003907</td>\n",
       "      <td>-0.005093</td>\n",
       "      <td>-0.006039</td>\n",
       "      <td>-0.006428</td>\n",
       "    </tr>\n",
       "    <tr>\n",
       "      <th>Income (USD/Month)</th>\n",
       "      <td>-0.001570</td>\n",
       "      <td>-0.000544</td>\n",
       "      <td>0.003228</td>\n",
       "      <td>-0.000633</td>\n",
       "      <td>0.011868</td>\n",
       "      <td>0.010464</td>\n",
       "      <td>-0.013608</td>\n",
       "      <td>0.003907</td>\n",
       "      <td>1.000000</td>\n",
       "      <td>0.006148</td>\n",
       "      <td>0.007632</td>\n",
       "      <td>0.008159</td>\n",
       "    </tr>\n",
       "    <tr>\n",
       "      <th>Profit</th>\n",
       "      <td>-0.087130</td>\n",
       "      <td>0.462768</td>\n",
       "      <td>0.864154</td>\n",
       "      <td>0.486056</td>\n",
       "      <td>0.544079</td>\n",
       "      <td>0.457758</td>\n",
       "      <td>-0.306527</td>\n",
       "      <td>-0.005093</td>\n",
       "      <td>0.006148</td>\n",
       "      <td>1.000000</td>\n",
       "      <td>0.764276</td>\n",
       "      <td>0.779330</td>\n",
       "    </tr>\n",
       "    <tr>\n",
       "      <th>price per KM</th>\n",
       "      <td>-0.106457</td>\n",
       "      <td>-0.000474</td>\n",
       "      <td>0.482493</td>\n",
       "      <td>0.062429</td>\n",
       "      <td>0.681364</td>\n",
       "      <td>0.584375</td>\n",
       "      <td>-0.368361</td>\n",
       "      <td>-0.006039</td>\n",
       "      <td>0.007632</td>\n",
       "      <td>0.764276</td>\n",
       "      <td>1.000000</td>\n",
       "      <td>0.980793</td>\n",
       "    </tr>\n",
       "    <tr>\n",
       "      <th>profit per KM</th>\n",
       "      <td>-0.110524</td>\n",
       "      <td>-0.000538</td>\n",
       "      <td>0.473222</td>\n",
       "      <td>0.031053</td>\n",
       "      <td>0.700522</td>\n",
       "      <td>0.589299</td>\n",
       "      <td>-0.394133</td>\n",
       "      <td>-0.006428</td>\n",
       "      <td>0.008159</td>\n",
       "      <td>0.779330</td>\n",
       "      <td>0.980793</td>\n",
       "      <td>1.000000</td>\n",
       "    </tr>\n",
       "  </tbody>\n",
       "</table>\n",
       "</div>"
      ],
      "text/plain": [
       "                    Transaction ID  KM Travelled  Price Charged  Cost of Trip  \\\n",
       "Transaction ID            1.000000     -0.001429      -0.052902     -0.003462   \n",
       "KM Travelled             -0.001429      1.000000       0.835753      0.981848   \n",
       "Price Charged            -0.052902      0.835753       1.000000      0.859812   \n",
       "Cost of Trip             -0.003462      0.981848       0.859812      1.000000   \n",
       "Population                0.023868     -0.002311       0.326589      0.015108   \n",
       "Users                     0.013526     -0.000428       0.281061      0.023628   \n",
       "Customer ID              -0.016912      0.000389      -0.177324      0.003077   \n",
       "Age                      -0.001267     -0.000369      -0.003084     -0.000189   \n",
       "Income (USD/Month)       -0.001570     -0.000544       0.003228     -0.000633   \n",
       "Profit                   -0.087130      0.462768       0.864154      0.486056   \n",
       "price per KM             -0.106457     -0.000474       0.482493      0.062429   \n",
       "profit per KM            -0.110524     -0.000538       0.473222      0.031053   \n",
       "\n",
       "                    Population     Users  Customer ID       Age  \\\n",
       "Transaction ID        0.023868  0.013526    -0.016912 -0.001267   \n",
       "KM Travelled         -0.002311 -0.000428     0.000389 -0.000369   \n",
       "Price Charged         0.326589  0.281061    -0.177324 -0.003084   \n",
       "Cost of Trip          0.015108  0.023628     0.003077 -0.000189   \n",
       "Population            1.000000  0.915490    -0.647052 -0.009002   \n",
       "Users                 0.915490  1.000000    -0.610742 -0.005906   \n",
       "Customer ID          -0.647052 -0.610742     1.000000 -0.004735   \n",
       "Age                  -0.009002 -0.005906    -0.004735  1.000000   \n",
       "Income (USD/Month)    0.011868  0.010464    -0.013608  0.003907   \n",
       "Profit                0.544079  0.457758    -0.306527 -0.005093   \n",
       "price per KM          0.681364  0.584375    -0.368361 -0.006039   \n",
       "profit per KM         0.700522  0.589299    -0.394133 -0.006428   \n",
       "\n",
       "                    Income (USD/Month)    Profit  price per KM  profit per KM  \n",
       "Transaction ID               -0.001570 -0.087130     -0.106457      -0.110524  \n",
       "KM Travelled                 -0.000544  0.462768     -0.000474      -0.000538  \n",
       "Price Charged                 0.003228  0.864154      0.482493       0.473222  \n",
       "Cost of Trip                 -0.000633  0.486056      0.062429       0.031053  \n",
       "Population                    0.011868  0.544079      0.681364       0.700522  \n",
       "Users                         0.010464  0.457758      0.584375       0.589299  \n",
       "Customer ID                  -0.013608 -0.306527     -0.368361      -0.394133  \n",
       "Age                           0.003907 -0.005093     -0.006039      -0.006428  \n",
       "Income (USD/Month)            1.000000  0.006148      0.007632       0.008159  \n",
       "Profit                        0.006148  1.000000      0.764276       0.779330  \n",
       "price per KM                  0.007632  0.764276      1.000000       0.980793  \n",
       "profit per KM                 0.008159  0.779330      0.980793       1.000000  "
      ]
     },
     "execution_count": 35,
     "metadata": {},
     "output_type": "execute_result"
    }
   ],
   "source": [
    "corr=merged_df.corr()\n",
    "corr"
   ]
  },
  {
   "cell_type": "code",
   "execution_count": 36,
   "id": "2d4186a2",
   "metadata": {},
   "outputs": [
    {
     "data": {
      "text/plain": [
       "Text(69.0, 0.5, 'Variables')"
      ]
     },
     "execution_count": 36,
     "metadata": {},
     "output_type": "execute_result"
    },
    {
     "data": {
      "image/png": "[encoded data removed]",
      "text/plain": [
       "<Figure size 720x720 with 2 Axes>"
      ]
     },
     "metadata": {
      "needs_background": "light"
     },
     "output_type": "display_data"
    }
   ],
   "source": [
    "f,ax = plt.subplots(figsize=(10, 10))\n",
    "# Creating the heatmap using seaborn's heatmap function\n",
    "sns.heatmap(data=corr, cmap=\"BrBG\",annot=True,fmt=\".2f\", linewidths=0.5, ax=ax,vmin=-1, vmax=1)\n",
    "# Set the title and labels for the heatmap\n",
    "ax.set_title('Correlation Heatmap')\n",
    "ax.set_xlabel('Variables')\n",
    "ax.set_ylabel('Variables')"
   ]
  },
  {
   "cell_type": "markdown",
   "id": "c4e88ff1",
   "metadata": {},
   "source": [
    "## Number of Cities Using Cab Services\n",
    "\n",
    "By examining the merged dataset, we find that there are 19 unique cities utilizing these cab services.\n"
   ]
  },
  {
   "cell_type": "code",
   "execution_count": 37,
   "id": "c45a61c6",
   "metadata": {},
   "outputs": [
    {
     "data": {
      "text/plain": [
       "Transaction ID        359392\n",
       "Date of Travel          1095\n",
       "Company                    2\n",
       "City                      19\n",
       "KM Travelled             874\n",
       "Price Charged          99176\n",
       "Cost of Trip           16291\n",
       "Population                19\n",
       "Users                     19\n",
       "Customer ID            46148\n",
       "Payment_Mode               2\n",
       "Gender                     2\n",
       "Age                       48\n",
       "Income (USD/Month)     22725\n",
       "Year                       3\n",
       "month_name                12\n",
       "Profit                301825\n",
       "price per KM          333994\n",
       "profit per KM         356065\n",
       "dtype: int64"
      ]
     },
     "execution_count": 37,
     "metadata": {},
     "output_type": "execute_result"
    }
   ],
   "source": [
    "merged_df.nunique()"
   ]
  },
  {
   "cell_type": "markdown",
   "id": "11982782",
   "metadata": {},
   "source": [
    "## Distribution of Cab Companies\n",
    "\n",
    "Visualizing the distribution of cab companies based on the merged dataset\n",
    "\n",
    "#### Market Share Analysis\n",
    "\n",
    "From the distribution of cab companies visualized in the pie chart, it's evident that Yellow Cab owns the majority of the market share.\n"
   ]
  },
  {
   "cell_type": "code",
   "execution_count": 38,
   "id": "7948afe5",
   "metadata": {},
   "outputs": [
    {
     "data": {
      "text/plain": [
       "<AxesSubplot:ylabel='Company'>"
      ]
     },
     "execution_count": 38,
     "metadata": {},
     "output_type": "execute_result"
    },
    {
     "data": {
      "image/png": "[encoded data removed]",
      "text/plain": [
       "<Figure size 432x288 with 1 Axes>"
      ]
     },
     "metadata": {},
     "output_type": "display_data"
    }
   ],
   "source": [
    "#company distribution\n",
    "merged_df[\"Company\"].value_counts().plot(kind=\"pie\",autopct=\"%1.1f%%\",shadow=True)"
   ]
  },
  {
   "cell_type": "markdown",
   "id": "45f9d4cd",
   "metadata": {},
   "source": [
    "## Analysis of Booking Trends and Cab Preference\n",
    "\n",
    "### Monthly Booking Trends\n",
    "\n",
    "These visualizations and analyses provide insights into booking trends across months and user preferences for cab companies.It's observed that December has the highest number of bookings, while February has the lowest.\n"
   ]
  },
  {
   "cell_type": "code",
   "execution_count": 39,
   "id": "f2a26dce",
   "metadata": {},
   "outputs": [
    {
     "data": {
      "text/plain": [
       "<AxesSubplot:ylabel='Users'>"
      ]
     },
     "execution_count": 39,
     "metadata": {},
     "output_type": "execute_result"
    },
    {
     "data": {
      "image/png": "[encoded data removed]",
      "text/plain": [
       "<Figure size 432x288 with 1 Axes>"
      ]
     },
     "metadata": {},
     "output_type": "display_data"
    }
   ],
   "source": [
    "#user\n",
    "x=merged_df.groupby([\"Company\"])[\"Users\"].mean()\n",
    "x.plot(kind=\"pie\",autopct=\"%1.1f%%\",shadow=True)"
   ]
  },
  {
   "cell_type": "code",
   "execution_count": 40,
   "id": "d6e11a10",
   "metadata": {},
   "outputs": [
    {
     "data": {
      "image/png": "[encoded data removed]",
      "text/plain": [
       "<Figure size 720x360 with 1 Axes>"
      ]
     },
     "metadata": {
      "needs_background": "light"
     },
     "output_type": "display_data"
    }
   ],
   "source": [
    "Year_users = merged_df.groupby(['Year', 'Company'])['Users'].sum().reset_index()\n",
    "\n",
    "# Pivot the data for easier comparison\n",
    "pivot_users = Year_users.pivot(index='Year', columns='Company', values='Users')\n",
    "\n",
    "# Plot the data\n",
    "fig,ax=plt.subplots(figsize=(10, 5))\n",
    "pivot_users.plot(kind='bar',ax=ax)\n",
    "plt.title('Number of Cab Users by Year')\n",
    "plt.xlabel('Year')\n",
    "plt.ylabel('Number of Users')\n",
    "plt.legend(title='Company')\n",
    "plt.grid(ls='--')\n",
    "plt.gca().set_facecolor('LightGrey')\n",
    "\n",
    "plt.show()"
   ]
  },
  {
   "cell_type": "code",
   "execution_count": 41,
   "id": "fe402049",
   "metadata": {},
   "outputs": [
    {
     "data": {
      "text/plain": [
       "<AxesSubplot:>"
      ]
     },
     "execution_count": 41,
     "metadata": {},
     "output_type": "execute_result"
    },
    {
     "data": {
      "image/png": "[encoded data removed]",
      "text/plain": [
       "<Figure size 432x288 with 1 Axes>"
      ]
     },
     "metadata": {
      "needs_background": "light"
     },
     "output_type": "display_data"
    }
   ],
   "source": [
    "#number of booking in each month?\n",
    "import calendar\n",
    "merged_df['month_name'] = pd.Categorical(merged_df['month_name'], categories=list(calendar.month_name[1:]), ordered=True)\n",
    "merged_df['month_name'].value_counts().sort_index().plot(kind='bar')\n"
   ]
  },
  {
   "cell_type": "code",
   "execution_count": 42,
   "id": "d5aaa8fd",
   "metadata": {},
   "outputs": [
    {
     "data": {
      "image/png": "[encoded data removed]",
      "text/plain": [
       "<Figure size 864x576 with 1 Axes>"
      ]
     },
     "metadata": {
      "needs_background": "light"
     },
     "output_type": "display_data"
    }
   ],
   "source": [
    "grouped = merged_df.groupby(['Company', 'month_name']).size().unstack(fill_value=0)\n",
    "\n",
    "# Plotting the line chart\n",
    "plt.figure(figsize=(12, 8))  # Adjust figure size as needed\n",
    "\n",
    "# Set background color\n",
    "plt.gca().set_facecolor('Black')\n",
    "\n",
    "# Plot lines for each company\n",
    "index = range(len(grouped.columns))\n",
    "\n",
    "plt.plot(index, grouped.loc['Pink Cab'], label='Pink Cab', color='pink', marker='o')\n",
    "plt.plot(index, grouped.loc['Yellow Cab'], label='Yellow Cab', color='Yellow', marker='o')\n",
    "\n",
    "# Add grid lines\n",
    "plt.grid(True, which='both', linestyle='--', linewidth=0.5)\n",
    "\n",
    "# Add labels and title\n",
    "plt.xlabel('Month')\n",
    "plt.ylabel('Count')\n",
    "plt.title('No of users per Month per Company in all years')\n",
    "plt.xticks(index, grouped.columns)  # Set x-axis labels to be month names\n",
    "plt.legend(title='Company')\n",
    "\n",
    "# Display the plot\n",
    "plt.show()\n"
   ]
  },
  {
   "cell_type": "markdown",
   "id": "8585507a",
   "metadata": {},
   "source": [
    "## Distribution of Kilometers Travelled\n",
    "\n",
    "Visualizing the distribution of kilometers travelled using a histogram.Based on the histogram depicting kilometers travelled:\n",
    "\n",
    "- The majority of cab rides range approximately from 2 km to 48 km."
   ]
  },
  {
   "cell_type": "code",
   "execution_count": 43,
   "id": "89885aec",
   "metadata": {},
   "outputs": [
    {
     "data": {
      "image/png": "[encoded data removed]",
      "text/plain": [
       "<Figure size 432x432 with 1 Axes>"
      ]
     },
     "metadata": {
      "needs_background": "light"
     },
     "output_type": "display_data"
    }
   ],
   "source": [
    "plt.figure(figsize=(6,6))\n",
    "plt.hist(merged_df['KM Travelled'],facecolor =\"black\",edgecolor =\"red\",bins =20)\n",
    "#creates histogram with 20 bins and colours filled init.\n",
    "plt.title('Km Travelled Distribution', fontsize=20)\n",
    "plt.ylabel('Frequency')\n",
    "plt.xlabel('Km Travelled')\n",
    "plt.gca().set_facecolor('LightGrey')\n"
   ]
  },
  {
   "cell_type": "markdown",
   "id": "0da50354",
   "metadata": {},
   "source": [
    "# Profit Margins\n",
    "\n",
    "(`Distribution of Profits`) - Visualizing the distribution of profits from cab services.Based on the histogram depicting profit distribution:\n",
    "- The majority of profits fall within the range of approximately 10 to 140.\n",
    "\n",
    "(`Pricing Analysis`) -To determine which company charges more or less\n",
    "- On average, Yellow Cab charges higher fares and earns more profits compared to Pink Cab.However, Pink Cab offers cheaper fares in comparison to Yellow Cab.\n"
   ]
  },
  {
   "cell_type": "code",
   "execution_count": 44,
   "id": "bbc6b5fa",
   "metadata": {},
   "outputs": [
    {
     "data": {
      "image/png": "[encoded data removed]",
      "text/plain": [
       "<Figure size 720x432 with 1 Axes>"
      ]
     },
     "metadata": {
      "needs_background": "light"
     },
     "output_type": "display_data"
    }
   ],
   "source": [
    "# Plotting the distribution of Profits to see how they are distributed\n",
    "plt.figure(figsize=(10, 6))\n",
    "plt.hist(merged_df[\"Profit\"], bins=30)\n",
    "plt.title(\"Distribution of Profits\")\n",
    "plt.xlabel(\"Profit\")\n",
    "plt.ylabel(\"Frequency\")\n",
    "plt.grid(axis=\"y\", alpha=0.90)\n",
    "plt.gca().set_facecolor('LightGrey')\n",
    "plt.show()"
   ]
  },
  {
   "cell_type": "code",
   "execution_count": 45,
   "id": "b42b7dec",
   "metadata": {},
   "outputs": [
    {
     "data": {
      "text/html": [
       "<div>\n",
       "<style scoped>\n",
       "    .dataframe tbody tr th:only-of-type {\n",
       "        vertical-align: middle;\n",
       "    }\n",
       "\n",
       "    .dataframe tbody tr th {\n",
       "        vertical-align: top;\n",
       "    }\n",
       "\n",
       "    .dataframe thead th {\n",
       "        text-align: right;\n",
       "    }\n",
       "</style>\n",
       "<table border=\"1\" class=\"dataframe\">\n",
       "  <thead>\n",
       "    <tr style=\"text-align: right;\">\n",
       "      <th></th>\n",
       "      <th>Company</th>\n",
       "      <th>price per KM</th>\n",
       "    </tr>\n",
       "  </thead>\n",
       "  <tbody>\n",
       "    <tr>\n",
       "      <th>0</th>\n",
       "      <td>Pink Cab</td>\n",
       "      <td>13.768510</td>\n",
       "    </tr>\n",
       "    <tr>\n",
       "      <th>1</th>\n",
       "      <td>Yellow Cab</td>\n",
       "      <td>20.306073</td>\n",
       "    </tr>\n",
       "  </tbody>\n",
       "</table>\n",
       "</div>"
      ],
      "text/plain": [
       "      Company  price per KM\n",
       "0    Pink Cab     13.768510\n",
       "1  Yellow Cab     20.306073"
      ]
     },
     "execution_count": 45,
     "metadata": {},
     "output_type": "execute_result"
    }
   ],
   "source": [
    "average_prices=merged_df.groupby(['Company'])['price per KM'].mean().reset_index()\n",
    "average_prices"
   ]
  },
  {
   "cell_type": "code",
   "execution_count": 46,
   "id": "639921ff",
   "metadata": {},
   "outputs": [
    {
     "data": {
      "text/html": [
       "<div>\n",
       "<style scoped>\n",
       "    .dataframe tbody tr th:only-of-type {\n",
       "        vertical-align: middle;\n",
       "    }\n",
       "\n",
       "    .dataframe tbody tr th {\n",
       "        vertical-align: top;\n",
       "    }\n",
       "\n",
       "    .dataframe thead th {\n",
       "        text-align: right;\n",
       "    }\n",
       "</style>\n",
       "<table border=\"1\" class=\"dataframe\">\n",
       "  <thead>\n",
       "    <tr style=\"text-align: right;\">\n",
       "      <th></th>\n",
       "      <th>Company</th>\n",
       "      <th>profit per KM</th>\n",
       "    </tr>\n",
       "  </thead>\n",
       "  <tbody>\n",
       "    <tr>\n",
       "      <th>0</th>\n",
       "      <td>Pink Cab</td>\n",
       "      <td>2.769908</td>\n",
       "    </tr>\n",
       "    <tr>\n",
       "      <th>1</th>\n",
       "      <td>Yellow Cab</td>\n",
       "      <td>7.105508</td>\n",
       "    </tr>\n",
       "  </tbody>\n",
       "</table>\n",
       "</div>"
      ],
      "text/plain": [
       "      Company  profit per KM\n",
       "0    Pink Cab       2.769908\n",
       "1  Yellow Cab       7.105508"
      ]
     },
     "execution_count": 46,
     "metadata": {},
     "output_type": "execute_result"
    }
   ],
   "source": [
    "average_profits=merged_df.groupby('Company')['profit per KM'].mean().reset_index()\n",
    "average_profits"
   ]
  },
  {
   "cell_type": "code",
   "execution_count": 47,
   "id": "79949160",
   "metadata": {},
   "outputs": [
    {
     "data": {
      "image/png": "[encoded data removed]",
      "text/plain": [
       "<Figure size 360x432 with 1 Axes>"
      ]
     },
     "metadata": {
      "needs_background": "light"
     },
     "output_type": "display_data"
    }
   ],
   "source": [
    "df=pd.merge(average_profits,average_prices,on='Company')\n",
    "fig, ax = plt.subplots(figsize=(5, 6))\n",
    "\n",
    "# Bar plot for price per KM\n",
    "ax.bar(df['Company'], df['price per KM'],width=0.2 ,label='Price per KM', align='center',color='Red')\n",
    "\n",
    "# Bar plot for profit per KM\n",
    "ax.bar(df['Company'], df['profit per KM'], width=0.2, label='Profit per KM', align='edge',color='Green')\n",
    "\n",
    "# Adding labels and title\n",
    "ax.set_xlabel('Company')\n",
    "ax.set_ylabel('Value per KM')\n",
    "ax.set_title('Profit and Price per KM for Cab Companies')\n",
    "\n",
    "# Adding legend\n",
    "ax.legend()\n",
    "plt.gca().set_facecolor('LightGrey')\n",
    "\n",
    "# Displaying the plot\n",
    "plt.show()"
   ]
  },
  {
   "cell_type": "code",
   "execution_count": 48,
   "id": "d49635ac",
   "metadata": {},
   "outputs": [
    {
     "data": {
      "text/html": [
       "<div>\n",
       "<style scoped>\n",
       "    .dataframe tbody tr th:only-of-type {\n",
       "        vertical-align: middle;\n",
       "    }\n",
       "\n",
       "    .dataframe tbody tr th {\n",
       "        vertical-align: top;\n",
       "    }\n",
       "\n",
       "    .dataframe thead th {\n",
       "        text-align: right;\n",
       "    }\n",
       "</style>\n",
       "<table border=\"1\" class=\"dataframe\">\n",
       "  <thead>\n",
       "    <tr style=\"text-align: right;\">\n",
       "      <th></th>\n",
       "      <th>Company</th>\n",
       "      <th>Year</th>\n",
       "      <th>profit per KM</th>\n",
       "      <th>price per KM</th>\n",
       "    </tr>\n",
       "  </thead>\n",
       "  <tbody>\n",
       "    <tr>\n",
       "      <th>0</th>\n",
       "      <td>Pink Cab</td>\n",
       "      <td>2016</td>\n",
       "      <td>3.026813</td>\n",
       "      <td>14.019628</td>\n",
       "    </tr>\n",
       "    <tr>\n",
       "      <th>1</th>\n",
       "      <td>Pink Cab</td>\n",
       "      <td>2017</td>\n",
       "      <td>2.962883</td>\n",
       "      <td>13.961471</td>\n",
       "    </tr>\n",
       "    <tr>\n",
       "      <th>2</th>\n",
       "      <td>Pink Cab</td>\n",
       "      <td>2018</td>\n",
       "      <td>2.350447</td>\n",
       "      <td>13.354016</td>\n",
       "    </tr>\n",
       "    <tr>\n",
       "      <th>3</th>\n",
       "      <td>Yellow Cab</td>\n",
       "      <td>2016</td>\n",
       "      <td>7.489847</td>\n",
       "      <td>20.691080</td>\n",
       "    </tr>\n",
       "    <tr>\n",
       "      <th>4</th>\n",
       "      <td>Yellow Cab</td>\n",
       "      <td>2017</td>\n",
       "      <td>7.494612</td>\n",
       "      <td>20.697927</td>\n",
       "    </tr>\n",
       "    <tr>\n",
       "      <th>5</th>\n",
       "      <td>Yellow Cab</td>\n",
       "      <td>2018</td>\n",
       "      <td>6.364805</td>\n",
       "      <td>19.561922</td>\n",
       "    </tr>\n",
       "  </tbody>\n",
       "</table>\n",
       "</div>"
      ],
      "text/plain": [
       "      Company  Year  profit per KM  price per KM\n",
       "0    Pink Cab  2016       3.026813     14.019628\n",
       "1    Pink Cab  2017       2.962883     13.961471\n",
       "2    Pink Cab  2018       2.350447     13.354016\n",
       "3  Yellow Cab  2016       7.489847     20.691080\n",
       "4  Yellow Cab  2017       7.494612     20.697927\n",
       "5  Yellow Cab  2018       6.364805     19.561922"
      ]
     },
     "execution_count": 48,
     "metadata": {},
     "output_type": "execute_result"
    }
   ],
   "source": [
    "average_prices_1=merged_df.groupby(['Company','Year'])['price per KM'].mean().reset_index()\n",
    "average_prices_1\n",
    "average_profits_1=merged_df.groupby(['Company','Year'])['profit per KM'].mean().reset_index()\n",
    "average_profits_1\n",
    "\n",
    "df=pd.merge(average_profits_1,average_prices_1,on=['Company','Year'])\n",
    "df"
   ]
  },
  {
   "cell_type": "code",
   "execution_count": null,
   "id": "e7c7774a",
   "metadata": {},
   "outputs": [],
   "source": []
  },
  {
   "cell_type": "markdown",
   "id": "358e76c7",
   "metadata": {},
   "source": [
    "# Distribution of Payment Modes\n",
    "   - This plot visualizes the distribution of payment modes (like Cash and Card) used by each cab company (Yellow Cab and Pink Cab), allowing for easy comparison and insights into customer payment preferences across companies."
   ]
  },
  {
   "cell_type": "code",
   "execution_count": 49,
   "id": "b4ebcece",
   "metadata": {},
   "outputs": [
    {
     "name": "stdout",
     "output_type": "stream",
     "text": [
      "Payment Counts:\n",
      " Payment_Mode     Company    Card    Cash\n",
      "0               Pink Cab   50719   33992\n",
      "1             Yellow Cab  164785  109896\n"
     ]
    },
    {
     "data": {
      "image/png": "[encoded data removed]",
      "text/plain": [
       "<Figure size 720x432 with 1 Axes>"
      ]
     },
     "metadata": {
      "needs_background": "light"
     },
     "output_type": "display_data"
    }
   ],
   "source": [
    "# Count payment modes for each company\n",
    "payment_counts = merged_df.groupby(['Company', 'Payment_Mode']).size().unstack(fill_value=0)\n",
    "\n",
    "# Print the payment counts to verify\n",
    "print(\"Payment Counts:\\n\", payment_counts.reset_index())\n",
    "\n",
    "# Plot the data\n",
    "payment_counts.plot(kind='barh', stacked=True, figsize=(10, 6))\n",
    "\n",
    "# Add labels and title\n",
    "plt.xlabel('Company', fontweight='bold')\n",
    "plt.ylabel('Count of Payment Modes', fontweight='bold')\n",
    "plt.title('Distribution of Payment Modes by Company')\n",
    "plt.legend(title='Payment Mode')\n",
    "plt.gca().set_facecolor('LightGrey')\n",
    "plt.show()"
   ]
  },
  {
   "cell_type": "code",
   "execution_count": null,
   "id": "17c36e34",
   "metadata": {},
   "outputs": [],
   "source": []
  },
  {
   "cell_type": "markdown",
   "id": "3d3ac6d6",
   "metadata": {},
   "source": [
    "# Total Users by City\n",
    "This visual analysis helps understand the distribution of cab service users across different cities, highlighting which cities have higher or lower user counts based on the merged dataset.we can say that:\n",
    "- cities such as **New York, NY** and **Chicago, IL** have significantly **higher** numbers of cab service users compared to other cities."
   ]
  },
  {
   "cell_type": "code",
   "execution_count": 50,
   "id": "59597c71",
   "metadata": {},
   "outputs": [
    {
     "name": "stdout",
     "output_type": "stream",
     "text": [
      "City Users:\n",
      "               City  Users\n",
      "0      NEW YORK NY  99885\n",
      "1       CHICAGO IL  56625\n",
      "2   LOS ANGELES CA  48033\n",
      "3    WASHINGTON DC  43737\n",
      "4        BOSTON MA  29692\n",
      "5     SAN DIEGO CA  20488\n",
      "6   SILICON VALLEY   8519\n",
      "7       SEATTLE WA   7997\n",
      "8       ATLANTA GA   7557\n",
      "9        DALLAS TX   7017\n",
      "10        MIAMI FL   6454\n",
      "11       AUSTIN TX   4896\n",
      "12   ORANGE COUNTY   3982\n",
      "13       DENVER CO   3825\n",
      "14    NASHVILLE TN   3010\n",
      "15   SACRAMENTO CA   2367\n",
      "16      PHOENIX AZ   2064\n",
      "17       TUCSON AZ   1931\n",
      "18   PITTSBURGH PA   1313\n"
     ]
    },
    {
     "data": {
      "image/png": "[encoded data removed]",
      "text/plain": [
       "<Figure size 720x432 with 1 Axes>"
      ]
     },
     "metadata": {
      "needs_background": "light"
     },
     "output_type": "display_data"
    }
   ],
   "source": [
    "# Group by City and sum the Users\n",
    "city_users = merged_df.groupby('City')['Users'].count().reset_index()\n",
    "\n",
    "# Print the results to verify\n",
    "print(\"City Users:\\n\", city_users.sort_values(by='Users',ascending=False).reset_index(drop=True))\n",
    "\n",
    "# Plot the data\n",
    "plt.figure(figsize=(10, 6))\n",
    "plt.bar(city_users['City'], city_users['Users'])\n",
    "plt.xlabel('Cities', fontweight='bold')\n",
    "plt.ylabel('Total Users', fontweight='bold')\n",
    "plt.title('Total Users by City')\n",
    "plt.xticks(rotation=45, ha='right')\n",
    "plt.tight_layout()\n",
    "plt.grid(ls='--')\n",
    "plt.gca().set_facecolor('LightGrey')\n",
    "# Show the plot\n",
    "plt.show()"
   ]
  },
  {
   "cell_type": "code",
   "execution_count": null,
   "id": "abb37dc5",
   "metadata": {},
   "outputs": [],
   "source": []
  },
  {
   "cell_type": "markdown",
   "id": "7a638f99",
   "metadata": {},
   "source": [
    "# Cab Usage Across Different Age Groups\n",
    "This scatter plot visualizes the distribution of cab usage across different age groups, highlighting the demographics of cab service users based on the merged dataset.we can say that\n",
    "- Users aged between **20** and **40** years old show **higher** cab usage compared to those aged **40** and **above**."
   ]
  },
  {
   "cell_type": "code",
   "execution_count": 51,
   "id": "4437b89d",
   "metadata": {},
   "outputs": [
    {
     "name": "stdout",
     "output_type": "stream",
     "text": [
      "Age group with highest cab usage:\n",
      "   Age         Users\n",
      "0   23  2.010135e+09\n",
      "1   20  1.997905e+09\n",
      "2   27  1.996650e+09\n",
      "3   33  1.917648e+09\n",
      "4   32  1.906044e+09\n"
     ]
    },
    {
     "data": {
      "image/png": "[encoded data removed]",
      "text/plain": [
       "<Figure size 720x432 with 1 Axes>"
      ]
     },
     "metadata": {
      "needs_background": "light"
     },
     "output_type": "display_data"
    }
   ],
   "source": [
    "# Group by 'age' and calculate the sum of 'users'\n",
    "age_group_usage = merged_df.groupby('Age')['Users'].sum().reset_index()\n",
    "\n",
    "# Sort the age groups by the number of users (descending order)\n",
    "age_group_usage = age_group_usage.sort_values(by='Users', ascending=False)\n",
    "\n",
    "# Display the age group with the highest cab usage\n",
    "print(\"Age group with highest cab usage:\")\n",
    "print(age_group_usage.reset_index(drop=True).head())\n",
    "\n",
    "# Plotting the age group vs users\n",
    "plt.figure(figsize=(10, 6))\n",
    "#plt.bar(age_group_usage['Age'], age_group_usage['Users'], color='skyblue')\n",
    "plt.scatter(age_group_usage['Age'], age_group_usage['Users'],color='red',marker='*',lw=2)\n",
    "plt.xlabel('Age Group')\n",
    "plt.ylabel('Number of Cab Users')\n",
    "plt.title('Cab Usage by Age Group')\n",
    "plt.xticks(rotation=45)\n",
    "plt.tight_layout()\n",
    "plt.grid(ls='--')\n",
    "plt.gca().set_facecolor('LightGrey')\n",
    "plt.show()"
   ]
  },
  {
   "cell_type": "code",
   "execution_count": null,
   "id": "0b3e5472",
   "metadata": {},
   "outputs": [],
   "source": []
  },
  {
   "cell_type": "markdown",
   "id": "41fbc97a",
   "metadata": {},
   "source": [
    "# Hypothesis Testing\n",
    "\n",
    "### Steps\n",
    "#### 1. Define the following:\n",
    "- Null Hypothesis (H0) : statement asserting that there is no effect or no difference.\n",
    "- Alternative Hypothesis (H1) : statement suggesting that there is an effect or a difference.\n",
    "\n",
    "#### 2. Find the p-value\n",
    "- Since the population standard deviation(sigma) is unknown, we use the t-distribution.\n",
    "- Calculate the test statistic and corresponding p-value using the sample data.\n",
    "\n",
    "#### 3. Reject or Fail to Reject the Hypothesis\n",
    "- Compare the p-value with the significance level (alpha), typically set at 0.05.\n",
    "\n",
    " **Decision Rule**:\n",
    "  - If \\(p\\)-value < (alpha): Reject the null hypothesis (H0).\n",
    "  - If \\(p\\)-value > (alpha): Fail to reject the null hypothesis (H0).\n",
    "\n",
    "**Conclusion**: Based on the decision rule, determine if there is enough evidence to conclude that there is a significant difference.\n"
   ]
  },
  {
   "cell_type": "code",
   "execution_count": 52,
   "id": "c11ddbc2",
   "metadata": {},
   "outputs": [],
   "source": [
    "# Separate the data by company and storing them into two dataframes\n",
    "Yellow_Cab_company = merged_df[merged_df['Company'] == 'Yellow Cab']\n",
    "Pink_Cab_company = merged_df[merged_df['Company'] == 'Pink Cab']"
   ]
  },
  {
   "cell_type": "markdown",
   "id": "c660c71b",
   "metadata": {},
   "source": [
    "# 1.Profitability Comparison:\n",
    "\n",
    "### Hypothesis Testing to Determine if Yellow Cab is More Profitable\n",
    "\n",
    "- **Null Hypothesis (Ho)**: Yellow Cab is not more profitable than Pink Cab.\n",
    "- **Alternative Hypothesis (H1)**:Yellow Cab is more profitable than Pink Cab."
   ]
  },
  {
   "cell_type": "code",
   "execution_count": 53,
   "id": "75e9f087",
   "metadata": {},
   "outputs": [
    {
     "name": "stdout",
     "output_type": "stream",
     "text": [
      "Profitability Comparison:\n",
      "Mean Profit A: 160.2599858410308\n",
      "Mean Profit B: 62.65217410962055\n",
      "T-Statistic: 230.99551452746326\n",
      "P-Value: 0.0\n",
      "\n",
      "Reject null hypothesis: Yellow_Cab is more profitable than Pink_Cab.\n"
     ]
    }
   ],
   "source": [
    "# Calculate the mean profit for both companies\n",
    "mean_profit_Yellow_Cab = Yellow_Cab_company['Profit'].mean()\n",
    "mean_profit_Pink_Cab = Pink_Cab_company['Profit'].mean()\n",
    "\n",
    "# Perform a t-test to compare the profitability\n",
    "t_stat, p_value = stats.ttest_ind(Yellow_Cab_company['Profit'], Pink_Cab_company['Profit'],equal_var=False)\n",
    "print(f'Profitability Comparison:\\nMean Profit A: {mean_profit_Yellow_Cab}\\nMean Profit B: {mean_profit_Pink_Cab}\\nT-Statistic: {t_stat}\\nP-Value: {p_value}\\n')\n",
    "\n",
    "alpha = 0.05  # significance level\n",
    "if p_value < alpha:\n",
    "    print(\"Reject null hypothesis: Yellow_Cab is more profitable than Pink_Cab.\")\n",
    "else:\n",
    "    print(\"Fail to reject null hypothesis: Yellow_Cabis not more profitable than Pink_Cab.\")"
   ]
  },
  {
   "cell_type": "code",
   "execution_count": null,
   "id": "e01e6def",
   "metadata": {},
   "outputs": [],
   "source": []
  },
  {
   "cell_type": "markdown",
   "id": "52c8890d",
   "metadata": {},
   "source": [
    "# 2.Customer Usage\n",
    "\n",
    "### Customers of yellow cab use the service more frequently (km traveled) than those of pink cab.\n",
    "\n",
    "- **Null Hypothesis (Ho)**: There is no difference in the mean kilometers traveled by customers of yellow cab and Pink cab.\n",
    "- **Alternative Hypothesis (H1)**:There is a difference in the mean kilometers traveled by customers of yellow cab and Pink cab."
   ]
  },
  {
   "cell_type": "code",
   "execution_count": 54,
   "id": "b466d59c",
   "metadata": {},
   "outputs": [
    {
     "name": "stdout",
     "output_type": "stream",
     "text": [
      "Customer Usage:\n",
      "Mean KM A: 22.56951689414197\n",
      "Mean KM B: 22.559916775861275\n",
      "T-Statistic: 0.19967531052842344\n",
      "P-Value: 0.8417346372229664\n",
      "\n",
      "Fail to reject the null hypothesis: There is not enough evidence to suggest a statistically significant difference in mean KM traveled.\n"
     ]
    }
   ],
   "source": [
    "mean_km_Yellow_Cab = Yellow_Cab_company['KM Travelled'].mean()\n",
    "mean_km_Pink_Cab = Pink_Cab_company['KM Travelled'].mean()\n",
    "\n",
    "# Perform a t-test to compare the kilometers traveled\n",
    "t_stat_km, p_value_km = stats.ttest_ind(Yellow_Cab_company['KM Travelled'], Pink_Cab_company['KM Travelled'])\n",
    "print(f'Customer Usage:\\nMean KM A: {mean_km_Yellow_Cab}\\nMean KM B: {mean_km_Pink_Cab}\\nT-Statistic: {t_stat_km}\\nP-Value: {p_value_km}\\n')\n",
    "\n",
    "\n",
    "alpha = 0.05\n",
    "if p_value_km < alpha:\n",
    "    print('we Reject the null hypothesis: There is sufficient evidence to suggest a statistically significant difference in mean KM traveled.')\n",
    "else:\n",
    "    print('Fail to reject the null hypothesis: There is not enough evidence to suggest a statistically significant difference in mean KM traveled.')"
   ]
  },
  {
   "cell_type": "code",
   "execution_count": null,
   "id": "6405c2d9",
   "metadata": {},
   "outputs": [],
   "source": []
  },
  {
   "cell_type": "markdown",
   "id": "38f1a2b2",
   "metadata": {},
   "source": [
    "# 3.Income\n",
    "### Does Income effect the choice of cab company?\n",
    "\n",
    "- **Null Hypothesis (Ho)**: The mean income of users of yellow cab is equal to the mean income of users of Pink cab.\n",
    "- **Alternative Hypothesis (H1)**:The mean income of users of yellow cab is different from the mean income of users of Pink cab.\n"
   ]
  },
  {
   "cell_type": "code",
   "execution_count": 55,
   "id": "f3a75022",
   "metadata": {},
   "outputs": [
    {
     "name": "stdout",
     "output_type": "stream",
     "text": [
      "Income Comparison:\n",
      "Mean Income A: 15045.669816987705\n",
      "Mean Income B: 15059.04713673549\n",
      "T-Statistic: -0.42711269788899975\n",
      "P-Value: 0.6692975005750657\n",
      "\n",
      "we fail to reject the null hypothesis:There is not enough evidence to suggest a statistically significant difference in mean \n",
      " income.\n"
     ]
    }
   ],
   "source": [
    "mean_income_a=Yellow_Cab_company['Income (USD/Month)'].mean()\n",
    "mean_income_b=Pink_Cab_company['Income (USD/Month)'].mean()\n",
    "\n",
    "# Perform a t-test to compare the mean income of users between the two companies\n",
    "t_stat_income, p_value_income = stats.ttest_ind(Yellow_Cab_company['Income (USD/Month)'], Pink_Cab_company['Income (USD/Month)'])\n",
    "print(f'Income Comparison:\\nMean Income A: {mean_income_a}\\nMean Income B: {mean_income_b}\\nT-Statistic: {t_stat_income}\\nP-Value: {p_value_income}\\n')\n",
    "\n",
    "alpha = 0.05\n",
    "if p_value_income < alpha:\n",
    "    print('We reject the null hypothesis:There is sufficient evidence to suggest a statistically significant difference in mean income.')\n",
    "else:\n",
    "    print('we fail to reject the null hypothesis:There is not enough evidence to suggest a statistically significant difference in mean \\n income.')"
   ]
  },
  {
   "cell_type": "code",
   "execution_count": null,
   "id": "660fdc1c",
   "metadata": {},
   "outputs": [],
   "source": []
  },
  {
   "cell_type": "markdown",
   "id": "6f1002ac",
   "metadata": {},
   "source": [
    "# 4.Gender\n",
    "### Does Gender effect the choice of cab company?\n",
    "\n",
    "- **Null Hypothesis (Ho)**: There is no association between Gender and Company.\n",
    "- **Alternative Hypothesis (H1)**:There is an association between Gender and Company.\n",
    "\n",
    "**Note:** We use the chi-square test to see if there's a connection between two types of categories.In this case, the two categorical variables are gender (e.g., male, female) and cab company preference (e.g., Company A, Company B). The chi-square test helps determine whether the distribution of one categorical variable differs depending on the level of the other categorical variable."
   ]
  },
  {
   "cell_type": "code",
   "execution_count": 56,
   "id": "2ef0c30a",
   "metadata": {},
   "outputs": [
    {
     "name": "stdout",
     "output_type": "stream",
     "text": [
      "\n",
      "Cross_Table:\n",
      " Company  Pink Cab  Yellow Cab\n",
      "Gender                       \n",
      "Female      37480      116000\n",
      "Male        47231      158681\n"
     ]
    }
   ],
   "source": [
    "# Creating a cross-table with count of each gender for each compny\n",
    "Cross_Table= pd.crosstab(merged_df['Gender'], merged_df['Company'])\n",
    "print(\"\\nCross_Table:\\n\", Cross_Table)"
   ]
  },
  {
   "cell_type": "code",
   "execution_count": 57,
   "id": "fea4bc95",
   "metadata": {},
   "outputs": [
    {
     "name": "stdout",
     "output_type": "stream",
     "text": [
      "\n",
      "Chi-Square Test Results:\n",
      "Chi2 Statistic: 107.22063897254299\n",
      "P-Value: 3.982674650131372e-25\n",
      "\n",
      "We reject the null hypothesis: There is sufficient evidence to suggest that Gender and Company are associated.\n"
     ]
    }
   ],
   "source": [
    "# Perform Chi-Square Test\n",
    "chi2, p, dof, expected = chi2_contingency(Cross_Table)\n",
    "print(f'\\nChi-Square Test Results:\\nChi2 Statistic: {chi2}\\nP-Value: {p}\\n')\n",
    "\n",
    "alpha = 0.05\n",
    "# Interpret the results\n",
    "if p < alpha:\n",
    "    print('We reject the null hypothesis: There is sufficient evidence to suggest that Gender and Company are associated.')\n",
    "else:\n",
    "    print('Fail to reject the null hypothesis: There is not enough evidence to suggest that Gender and Company are associated.')"
   ]
  },
  {
   "cell_type": "code",
   "execution_count": null,
   "id": "372d03ec",
   "metadata": {},
   "outputs": [],
   "source": []
  },
  {
   "cell_type": "markdown",
   "id": "fe8ef345",
   "metadata": {},
   "source": [
    "# 5.Demographic Preference\n",
    "### Is Yellow cab is preferred by younger users compared to Pink cab ?\n",
    "\n",
    "- **Null Hypothesis (Ho)**: There is no significant difference in the mean ages of younger users (defined as ages 10-30) between yellow cab and Pink cab.\n",
    "- **Alternative Hypothesis (H1)**:There is a significant difference in the mean ages of younger users between yellow cab and Pink cab.\n"
   ]
  },
  {
   "cell_type": "code",
   "execution_count": 58,
   "id": "a3a5716f",
   "metadata": {},
   "outputs": [
    {
     "data": {
      "text/html": [
       "<div>\n",
       "<style scoped>\n",
       "    .dataframe tbody tr th:only-of-type {\n",
       "        vertical-align: middle;\n",
       "    }\n",
       "\n",
       "    .dataframe tbody tr th {\n",
       "        vertical-align: top;\n",
       "    }\n",
       "\n",
       "    .dataframe thead th {\n",
       "        text-align: right;\n",
       "    }\n",
       "</style>\n",
       "<table border=\"1\" class=\"dataframe\">\n",
       "  <thead>\n",
       "    <tr style=\"text-align: right;\">\n",
       "      <th></th>\n",
       "      <th>Transaction ID</th>\n",
       "      <th>Date of Travel</th>\n",
       "      <th>Company</th>\n",
       "      <th>City</th>\n",
       "      <th>KM Travelled</th>\n",
       "      <th>Price Charged</th>\n",
       "      <th>Cost of Trip</th>\n",
       "      <th>Population</th>\n",
       "      <th>Users</th>\n",
       "      <th>Customer ID</th>\n",
       "      <th>Payment_Mode</th>\n",
       "      <th>Gender</th>\n",
       "      <th>Age</th>\n",
       "      <th>Income (USD/Month)</th>\n",
       "      <th>Year</th>\n",
       "      <th>month_name</th>\n",
       "      <th>Profit</th>\n",
       "      <th>price per KM</th>\n",
       "      <th>profit per KM</th>\n",
       "    </tr>\n",
       "  </thead>\n",
       "  <tbody>\n",
       "    <tr>\n",
       "      <th>0</th>\n",
       "      <td>10000011</td>\n",
       "      <td>2016-01-08</td>\n",
       "      <td>Pink Cab</td>\n",
       "      <td>ATLANTA GA</td>\n",
       "      <td>30.45</td>\n",
       "      <td>370.95</td>\n",
       "      <td>313.6350</td>\n",
       "      <td>814885.0</td>\n",
       "      <td>24701.0</td>\n",
       "      <td>29290</td>\n",
       "      <td>Card</td>\n",
       "      <td>Male</td>\n",
       "      <td>28</td>\n",
       "      <td>10813</td>\n",
       "      <td>2016</td>\n",
       "      <td>January</td>\n",
       "      <td>57.3150</td>\n",
       "      <td>12.182266</td>\n",
       "      <td>1.882266</td>\n",
       "    </tr>\n",
       "    <tr>\n",
       "      <th>1</th>\n",
       "      <td>10351127</td>\n",
       "      <td>2018-07-21</td>\n",
       "      <td>Yellow Cab</td>\n",
       "      <td>ATLANTA GA</td>\n",
       "      <td>26.19</td>\n",
       "      <td>598.70</td>\n",
       "      <td>317.4228</td>\n",
       "      <td>814885.0</td>\n",
       "      <td>24701.0</td>\n",
       "      <td>29290</td>\n",
       "      <td>Cash</td>\n",
       "      <td>Male</td>\n",
       "      <td>28</td>\n",
       "      <td>10813</td>\n",
       "      <td>2018</td>\n",
       "      <td>July</td>\n",
       "      <td>281.2772</td>\n",
       "      <td>22.859870</td>\n",
       "      <td>10.739870</td>\n",
       "    </tr>\n",
       "    <tr>\n",
       "      <th>2</th>\n",
       "      <td>10412921</td>\n",
       "      <td>2018-11-23</td>\n",
       "      <td>Yellow Cab</td>\n",
       "      <td>ATLANTA GA</td>\n",
       "      <td>42.55</td>\n",
       "      <td>792.05</td>\n",
       "      <td>597.4020</td>\n",
       "      <td>814885.0</td>\n",
       "      <td>24701.0</td>\n",
       "      <td>29290</td>\n",
       "      <td>Card</td>\n",
       "      <td>Male</td>\n",
       "      <td>28</td>\n",
       "      <td>10813</td>\n",
       "      <td>2018</td>\n",
       "      <td>November</td>\n",
       "      <td>194.6480</td>\n",
       "      <td>18.614571</td>\n",
       "      <td>4.574571</td>\n",
       "    </tr>\n",
       "    <tr>\n",
       "      <th>3</th>\n",
       "      <td>10000012</td>\n",
       "      <td>2016-01-06</td>\n",
       "      <td>Pink Cab</td>\n",
       "      <td>ATLANTA GA</td>\n",
       "      <td>28.62</td>\n",
       "      <td>358.52</td>\n",
       "      <td>334.8540</td>\n",
       "      <td>814885.0</td>\n",
       "      <td>24701.0</td>\n",
       "      <td>27703</td>\n",
       "      <td>Card</td>\n",
       "      <td>Male</td>\n",
       "      <td>27</td>\n",
       "      <td>9237</td>\n",
       "      <td>2016</td>\n",
       "      <td>January</td>\n",
       "      <td>23.6660</td>\n",
       "      <td>12.526904</td>\n",
       "      <td>0.826904</td>\n",
       "    </tr>\n",
       "    <tr>\n",
       "      <th>4</th>\n",
       "      <td>10320494</td>\n",
       "      <td>2018-04-21</td>\n",
       "      <td>Yellow Cab</td>\n",
       "      <td>ATLANTA GA</td>\n",
       "      <td>36.38</td>\n",
       "      <td>721.10</td>\n",
       "      <td>467.1192</td>\n",
       "      <td>814885.0</td>\n",
       "      <td>24701.0</td>\n",
       "      <td>27703</td>\n",
       "      <td>Card</td>\n",
       "      <td>Male</td>\n",
       "      <td>27</td>\n",
       "      <td>9237</td>\n",
       "      <td>2018</td>\n",
       "      <td>April</td>\n",
       "      <td>253.9808</td>\n",
       "      <td>19.821330</td>\n",
       "      <td>6.981330</td>\n",
       "    </tr>\n",
       "  </tbody>\n",
       "</table>\n",
       "</div>"
      ],
      "text/plain": [
       "   Transaction ID Date of Travel     Company        City  KM Travelled  \\\n",
       "0        10000011     2016-01-08    Pink Cab  ATLANTA GA         30.45   \n",
       "1        10351127     2018-07-21  Yellow Cab  ATLANTA GA         26.19   \n",
       "2        10412921     2018-11-23  Yellow Cab  ATLANTA GA         42.55   \n",
       "3        10000012     2016-01-06    Pink Cab  ATLANTA GA         28.62   \n",
       "4        10320494     2018-04-21  Yellow Cab  ATLANTA GA         36.38   \n",
       "\n",
       "   Price Charged  Cost of Trip  Population    Users  Customer ID Payment_Mode  \\\n",
       "0         370.95      313.6350    814885.0  24701.0        29290         Card   \n",
       "1         598.70      317.4228    814885.0  24701.0        29290         Cash   \n",
       "2         792.05      597.4020    814885.0  24701.0        29290         Card   \n",
       "3         358.52      334.8540    814885.0  24701.0        27703         Card   \n",
       "4         721.10      467.1192    814885.0  24701.0        27703         Card   \n",
       "\n",
       "  Gender  Age  Income (USD/Month)  Year month_name    Profit  price per KM  \\\n",
       "0   Male   28               10813  2016    January   57.3150     12.182266   \n",
       "1   Male   28               10813  2018       July  281.2772     22.859870   \n",
       "2   Male   28               10813  2018   November  194.6480     18.614571   \n",
       "3   Male   27                9237  2016    January   23.6660     12.526904   \n",
       "4   Male   27                9237  2018      April  253.9808     19.821330   \n",
       "\n",
       "   profit per KM  \n",
       "0       1.882266  \n",
       "1      10.739870  \n",
       "2       4.574571  \n",
       "3       0.826904  \n",
       "4       6.981330  "
      ]
     },
     "execution_count": 58,
     "metadata": {},
     "output_type": "execute_result"
    }
   ],
   "source": [
    "# Defining age group for younger users (e.g., ages 10-30)\n",
    "young_age_group = merged_df[(merged_df['Age'] >= 10) & (merged_df['Age'] <= 30)]\n",
    "young_age_group.head()"
   ]
  },
  {
   "cell_type": "code",
   "execution_count": 59,
   "id": "ddf92bf1",
   "metadata": {},
   "outputs": [
    {
     "name": "stdout",
     "output_type": "stream",
     "text": [
      "Age Comparison (Young Users):\n",
      "Mean Age A (Young): 23.96671005162519\n",
      "Mean Age B (Young): 23.944927291649087\n",
      "T-Statistic: 0.9700336232319711\n",
      "P-Value: 0.33203129650971674\n",
      "\n",
      "\n",
      "There is no significant difference in the mean ages of younger users between yellow cab and Pink cab.\n"
     ]
    }
   ],
   "source": [
    "# Separate the data by company within the defined age group\n",
    "Yellow_cab_company = young_age_group[young_age_group['Company'] == 'Yellow Cab']\n",
    "Pink_cab_company = young_age_group[young_age_group['Company'] == 'Pink Cab']\n",
    "\n",
    "# Calculate the mean age for both companies within the defined age group\n",
    "mean_age_a = Yellow_cab_company['Age'].mean()\n",
    "mean_age_b = Pink_cab_company['Age'].mean()\n",
    "\n",
    "# Perform a t-test to compare the mean ages of younger users between the two companies\n",
    "t_stat_age, p_value_age = stats.ttest_ind(Yellow_cab_company['Age'], Pink_cab_company['Age'])\n",
    "print(f'Age Comparison (Young Users):\\nMean Age A (Young): {mean_age_a}\\nMean Age B (Young): {mean_age_b}\\nT-Statistic: {t_stat_age}\\nP-Value: {p_value_age}\\n')\n",
    "\n",
    "# Interpretation\n",
    "if p_value_age < 0.05:\n",
    "    print(\"\\nThere is a significant difference in the mean ages of younger users between yellow cab and Pink cab.\")\n",
    "    if mean_age_a < mean_age_b:\n",
    "        print(\"yellow cab and Pink cab. is preferred by younger users compared to Pink cab.\")\n",
    "    else:\n",
    "        print(\"Pink cab is preferred by younger users compared to yellow cab .\")\n",
    "else:\n",
    "    print(\"\\nThere is no significant difference in the mean ages of younger users between yellow cab and Pink cab.\")\n"
   ]
  }
 ],
 "metadata": {
  "kernelspec": {
   "display_name": "Python 3 (ipykernel)",
   "language": "python",
   "name": "python3"
  },
  "language_info": {
   "codemirror_mode": {
    "name": "ipython",
    "version": 3
   },
   "file_extension": ".py",
   "mimetype": "text/x-python",
   "name": "python",
   "nbconvert_exporter": "python",
   "pygments_lexer": "ipython3",
   "version": "3.9.12"
  }
 },
 "nbformat": 4,
 "nbformat_minor": 5
}
